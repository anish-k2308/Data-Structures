{
 "cells": [
  {
   "cell_type": "code",
   "execution_count": 3,
   "id": "5dbacda4-c399-4ad7-b894-e400a1e5a9aa",
   "metadata": {},
   "outputs": [],
   "source": [
    "class Node:\n",
    "    def __init__(self,data,key):\n",
    "        self.data = data\n",
    "        self.key = key\n",
    "        self.next = None"
   ]
  },
  {
   "cell_type": "code",
   "execution_count": 5,
   "id": "bba1ac7f-2d75-4f52-a538-b40178c82d5d",
   "metadata": {},
   "outputs": [],
   "source": [
    "class HashMap(Node):\n",
    "    def __init__(self):\n",
    "        self.cap = 10\n",
    "        self.arr = [None]*self.cap\n",
    "    def hashfn(self,val):\n",
    "        return val%self.cap\n",
    "    def insert(self,key,val):\n",
    "        pos = self.hashfn(key)\n",
    "        if self.arr[pos] is None:\n",
    "            self.arr[pos] = Node(val,key)\n",
    "        else:\n",
    "            head = self.arr[pos]\n",
    "            while head.next is not None:\n",
    "                if head.key == key:\n",
    "                    head.val = val\n",
    "                    return\n",
    "                head = head.next  \n",
    "            head.next = Node(val,key)\n",
    "    def search(self,key):\n",
    "        pos = self.hashfn(key)\n",
    "        if self.arr[pos] is None:\n",
    "            return 'Not Found'\n",
    "        else:\n",
    "            head = self.arr[pos]\n",
    "            while head:\n",
    "                if head.key == key:\n",
    "                    return head.data\n",
    "                head = head.next\n",
    "            return 'Not Found'\n",
    "    def delete(self,key):\n",
    "        pos = self.hashfn(key)\n",
    "        head = self.arr[pos]\n",
    "        if head.key == key:\n",
    "            self.arr[pos] = head.next\n",
    "            head = None\n",
    "        else:\n",
    "            while head.next is not None:\n",
    "                if head.next.key == key:\n",
    "                    temp = head.next\n",
    "                    head.next = head.next.next\n",
    "                    temp = None\n",
    "                \n",
    "        "
   ]
  },
  {
   "cell_type": "code",
   "execution_count": 7,
   "id": "3f43d825-d59e-4137-b929-1f399851058a",
   "metadata": {},
   "outputs": [],
   "source": [
    "hf = HashMap()"
   ]
  },
  {
   "cell_type": "code",
   "execution_count": 9,
   "id": "c29ee341-2f12-4b08-8eca-29c7807926cf",
   "metadata": {},
   "outputs": [],
   "source": [
    "hf.insert(45,'good')"
   ]
  },
  {
   "cell_type": "code",
   "execution_count": 11,
   "id": "a8472c42-cc8f-4ff1-9a70-7b29dc227490",
   "metadata": {},
   "outputs": [],
   "source": [
    "hf.insert(15,'bad')"
   ]
  },
  {
   "cell_type": "code",
   "execution_count": 13,
   "id": "363a3c2d-3f04-4139-ad8b-82e53b080bd4",
   "metadata": {},
   "outputs": [],
   "source": [
    "hf.insert(47,'tasty')"
   ]
  },
  {
   "cell_type": "code",
   "execution_count": 15,
   "id": "294f0ecb-932c-4edf-a0aa-9a365f20aec0",
   "metadata": {},
   "outputs": [],
   "source": [
    "hf.insert(87,'nasty')"
   ]
  },
  {
   "cell_type": "code",
   "execution_count": 17,
   "id": "3ace488c-cf25-49d5-b1a6-33e59281f55e",
   "metadata": {},
   "outputs": [
    {
     "data": {
      "text/plain": [
       "'nasty'"
      ]
     },
     "execution_count": 17,
     "metadata": {},
     "output_type": "execute_result"
    }
   ],
   "source": [
    "hf.search(87)"
   ]
  },
  {
   "cell_type": "code",
   "execution_count": 19,
   "id": "66522288-dfbd-4f2b-8b06-eeb0b4dd7696",
   "metadata": {},
   "outputs": [],
   "source": [
    "hf.delete(47)"
   ]
  },
  {
   "cell_type": "code",
   "execution_count": 21,
   "id": "9efa6167-f224-4247-8052-9dd9ef19574e",
   "metadata": {},
   "outputs": [
    {
     "data": {
      "text/plain": [
       "'Not Found'"
      ]
     },
     "execution_count": 21,
     "metadata": {},
     "output_type": "execute_result"
    }
   ],
   "source": [
    "hf.search(47)"
   ]
  },
  {
   "cell_type": "code",
   "execution_count": 23,
   "id": "b97fdaf2-d664-4d6a-a3bd-9a2aa67c7360",
   "metadata": {},
   "outputs": [
    {
     "data": {
      "text/plain": [
       "'nasty'"
      ]
     },
     "execution_count": 23,
     "metadata": {},
     "output_type": "execute_result"
    }
   ],
   "source": [
    "hf.search(87)"
   ]
  },
  {
   "cell_type": "code",
   "execution_count": 25,
   "id": "eed2ec79-f346-4453-a160-9f53ba32e05b",
   "metadata": {},
   "outputs": [],
   "source": [
    "hf.delete(15)"
   ]
  },
  {
   "cell_type": "code",
   "execution_count": 27,
   "id": "6e893463-50da-4218-b3da-1b429f114075",
   "metadata": {},
   "outputs": [
    {
     "data": {
      "text/plain": [
       "'Not Found'"
      ]
     },
     "execution_count": 27,
     "metadata": {},
     "output_type": "execute_result"
    }
   ],
   "source": [
    "hf.search(15)"
   ]
  },
  {
   "cell_type": "code",
   "execution_count": null,
   "id": "8f4b76ae-c2b2-4346-a6af-b2ab5a6a6816",
   "metadata": {},
   "outputs": [],
   "source": []
  }
 ],
 "metadata": {
  "kernelspec": {
   "display_name": "Python 3 (ipykernel)",
   "language": "python",
   "name": "python3"
  },
  "language_info": {
   "codemirror_mode": {
    "name": "ipython",
    "version": 3
   },
   "file_extension": ".py",
   "mimetype": "text/x-python",
   "name": "python",
   "nbconvert_exporter": "python",
   "pygments_lexer": "ipython3",
   "version": "3.11.5"
  }
 },
 "nbformat": 4,
 "nbformat_minor": 5
}
