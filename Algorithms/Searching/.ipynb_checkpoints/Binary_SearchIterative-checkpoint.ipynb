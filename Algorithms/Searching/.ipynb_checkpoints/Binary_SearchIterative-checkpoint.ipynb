{
 "cells": [
  {
   "cell_type": "code",
   "execution_count": 21,
   "id": "6e6c7ae0-0206-4360-95e8-8af2222525f5",
   "metadata": {},
   "outputs": [],
   "source": [
    "def binary_searchi(arr,x):\n",
    "    h = len(arr) \n",
    "    l = 0\n",
    "    while (l<h):\n",
    "        m =  (l+h)//2\n",
    "        if (x == arr[m]):\n",
    "            return m\n",
    "        elif(x < arr[m]):\n",
    "            h = m-1\n",
    "        else:\n",
    "            l = m+1\n",
    "    return -1"
   ]
  },
  {
   "cell_type": "code",
   "execution_count": 35,
   "id": "d2951fde-08f3-4a6b-8436-4ef23902c023",
   "metadata": {},
   "outputs": [
    {
     "data": {
      "text/plain": [
       "5"
      ]
     },
     "execution_count": 35,
     "metadata": {},
     "output_type": "execute_result"
    }
   ],
   "source": [
    "binary_searchi([1,2,3,4,5,6],6)"
   ]
  },
  {
   "cell_type": "code",
   "execution_count": null,
   "id": "69930aba-9b14-4aae-970d-0e941bbeab54",
   "metadata": {},
   "outputs": [],
   "source": []
  }
 ],
 "metadata": {
  "kernelspec": {
   "display_name": "Python 3 (ipykernel)",
   "language": "python",
   "name": "python3"
  },
  "language_info": {
   "codemirror_mode": {
    "name": "ipython",
    "version": 3
   },
   "file_extension": ".py",
   "mimetype": "text/x-python",
   "name": "python",
   "nbconvert_exporter": "python",
   "pygments_lexer": "ipython3",
   "version": "3.11.5"
  }
 },
 "nbformat": 4,
 "nbformat_minor": 5
}
