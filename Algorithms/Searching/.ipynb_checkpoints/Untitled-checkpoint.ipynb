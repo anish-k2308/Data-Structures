{
 "cells": [
  {
   "cell_type": "code",
   "execution_count": 1,
   "id": "99c91c90-b73b-4306-97e9-0082172cb740",
   "metadata": {},
   "outputs": [],
   "source": [
    "def linear_search(arr,k):\n",
    "    for i in range (len(arr)):\n",
    "        if arr[i] == k:\n",
    "            return i\n",
    "    return -1"
   ]
  },
  {
   "cell_type": "code",
   "execution_count": 3,
   "id": "2022f343-d6f6-462e-817f-a5f3f233115a",
   "metadata": {},
   "outputs": [
    {
     "data": {
      "text/plain": [
       "6"
      ]
     },
     "execution_count": 3,
     "metadata": {},
     "output_type": "execute_result"
    }
   ],
   "source": [
    "linear_search([1,2,3,4,5,6,7,8],7)"
   ]
  },
  {
   "cell_type": "code",
   "execution_count": 5,
   "id": "b24dcc6e-a0e5-4b81-8125-157f0e46381e",
   "metadata": {},
   "outputs": [
    {
     "data": {
      "text/plain": [
       "-1"
      ]
     },
     "execution_count": 5,
     "metadata": {},
     "output_type": "execute_result"
    }
   ],
   "source": [
    "linear_search([1,2,3,4,5,6,7,8],17)"
   ]
  },
  {
   "cell_type": "code",
   "execution_count": null,
   "id": "deae5f7e-8e73-4cda-91e7-5a869a0b49db",
   "metadata": {},
   "outputs": [],
   "source": []
  }
 ],
 "metadata": {
  "kernelspec": {
   "display_name": "Python 3 (ipykernel)",
   "language": "python",
   "name": "python3"
  },
  "language_info": {
   "codemirror_mode": {
    "name": "ipython",
    "version": 3
   },
   "file_extension": ".py",
   "mimetype": "text/x-python",
   "name": "python",
   "nbconvert_exporter": "python",
   "pygments_lexer": "ipython3",
   "version": "3.11.5"
  }
 },
 "nbformat": 4,
 "nbformat_minor": 5
}
