{
 "cells": [
  {
   "cell_type": "code",
   "execution_count": 1,
   "id": "a3b6cdfc-90c8-4b9e-b2c1-a41c496b4775",
   "metadata": {},
   "outputs": [],
   "source": [
    "def binary_search(arr,l,h,x):\n",
    "    if l>h:\n",
    "        return -1\n",
    "    m = (l+h)//2\n",
    "    if m>=len(arr):\n",
    "        return -1\n",
    "    if arr[m] == x:\n",
    "        return m\n",
    "    elif x<arr[m]:\n",
    "        h=m-1\n",
    "    else:\n",
    "        l=m+1\n",
    "    return binary_search(arr,l,h,x)"
   ]
  },
  {
   "cell_type": "code",
   "execution_count": 7,
   "id": "8b071b59-1c63-4ed9-825f-7185037a5458",
   "metadata": {},
   "outputs": [
    {
     "data": {
      "text/plain": [
       "-1"
      ]
     },
     "execution_count": 7,
     "metadata": {},
     "output_type": "execute_result"
    }
   ],
   "source": [
    "binary_search([1,2,3,4,5,6],0,5,0)"
   ]
  },
  {
   "cell_type": "code",
   "execution_count": null,
   "id": "cf4f6ec9-3958-4b70-b7e1-fcecc3d3944e",
   "metadata": {},
   "outputs": [],
   "source": []
  }
 ],
 "metadata": {
  "kernelspec": {
   "display_name": "Python 3 (ipykernel)",
   "language": "python",
   "name": "python3"
  },
  "language_info": {
   "codemirror_mode": {
    "name": "ipython",
    "version": 3
   },
   "file_extension": ".py",
   "mimetype": "text/x-python",
   "name": "python",
   "nbconvert_exporter": "python",
   "pygments_lexer": "ipython3",
   "version": "3.11.5"
  }
 },
 "nbformat": 4,
 "nbformat_minor": 5
}
