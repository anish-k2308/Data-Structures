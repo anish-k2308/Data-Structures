{
 "cells": [
  {
   "cell_type": "code",
   "execution_count": 9,
   "id": "d0382847-52ef-43c6-b801-12fffac4285c",
   "metadata": {},
   "outputs": [],
   "source": [
    "def partition(arr,left,right):\n",
    "    i = left\n",
    "    j = right\n",
    "    pivot = arr[right]\n",
    "    while i < j:\n",
    "        while i<right and arr[i]<pivot:\n",
    "            i+=1\n",
    "        while j>left and arr[j]>=pivot:\n",
    "            j-=1\n",
    "        if i<j:\n",
    "            arr[i],arr[j] = arr[j],arr[i]\n",
    "    if arr[i]>pivot:\n",
    "        arr[i],arr[right] = arr[right],arr[i]\n",
    "    return i"
   ]
  },
  {
   "cell_type": "code",
   "execution_count": 11,
   "id": "882ef4e1-de8e-480a-b936-5e6070235474",
   "metadata": {},
   "outputs": [],
   "source": [
    "def quicksort(arr,left,right):\n",
    "    if left < right:\n",
    "        partition_ = partition(arr,left,right)\n",
    "        quicksort(arr,left,partition_-1)\n",
    "        quicksort(arr,partition_+1,right)\n",
    "    return arr"
   ]
  },
  {
   "cell_type": "code",
   "execution_count": 13,
   "id": "bf23591f-0dee-4ce6-94b3-f4a3da80363b",
   "metadata": {},
   "outputs": [
    {
     "data": {
      "text/plain": [
       "[11, 22, 33, 44, 55, 66, 77, 88]"
      ]
     },
     "execution_count": 13,
     "metadata": {},
     "output_type": "execute_result"
    }
   ],
   "source": [
    "quicksort([22,11,88,66,55,77,33,44],0,7)"
   ]
  },
  {
   "cell_type": "code",
   "execution_count": null,
   "id": "64a655d1-42a4-4093-9d69-9b52ccaf51bd",
   "metadata": {},
   "outputs": [],
   "source": []
  }
 ],
 "metadata": {
  "kernelspec": {
   "display_name": "Python 3 (ipykernel)",
   "language": "python",
   "name": "python3"
  },
  "language_info": {
   "codemirror_mode": {
    "name": "ipython",
    "version": 3
   },
   "file_extension": ".py",
   "mimetype": "text/x-python",
   "name": "python",
   "nbconvert_exporter": "python",
   "pygments_lexer": "ipython3",
   "version": "3.11.5"
  }
 },
 "nbformat": 4,
 "nbformat_minor": 5
}
