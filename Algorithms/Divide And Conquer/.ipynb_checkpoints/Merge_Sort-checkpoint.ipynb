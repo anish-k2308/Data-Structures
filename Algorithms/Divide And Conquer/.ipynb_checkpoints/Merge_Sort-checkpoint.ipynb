{
 "cells": [
  {
   "cell_type": "code",
   "execution_count": 140,
   "id": "a782888f-02a3-49de-ac9b-00e9ad0a0625",
   "metadata": {},
   "outputs": [],
   "source": [
    "def merge(arr,left,right):\n",
    "    h = 0\n",
    "    j = 0\n",
    "    i = 0\n",
    "    while(h<len(left) and j<len(right)):\n",
    "        if (left[h]<right[j]):\n",
    "            arr[i] = left[h]\n",
    "            h += 1\n",
    "        else:\n",
    "            arr[i] = right[j]\n",
    "            j += 1\n",
    "        i+=1\n",
    "    while h<len(left):\n",
    "        arr[i] = left[h]\n",
    "        h+=1\n",
    "        i+=1\n",
    "    while j<len(right):\n",
    "        arr[i] = right[j]\n",
    "        j+=1\n",
    "        i+=1"
   ]
  },
  {
   "cell_type": "code",
   "execution_count": 142,
   "id": "3bcb1893-87c1-4f64-bc74-497c99cc3aa0",
   "metadata": {},
   "outputs": [],
   "source": [
    "def merge_sort(arr):\n",
    "    if len(arr)>1:\n",
    "        left = arr[:len(arr)//2]\n",
    "        right = arr[len(arr)//2:]\n",
    "        merge_sort(left)\n",
    "        merge_sort(right)\n",
    "        merge(arr,left,right)\n",
    "    return arr"
   ]
  },
  {
   "cell_type": "code",
   "execution_count": 144,
   "id": "3d2612e6-13fd-4986-830d-848f9c3aba5d",
   "metadata": {},
   "outputs": [
    {
     "name": "stdout",
     "output_type": "stream",
     "text": [
      "[5, 8] arr [5] left 0 0\n",
      "[5, 8] arr [8] r 0 1\n",
      "[4, 5, 8] arr [4] left 0 0\n",
      "[4, 5, 8] arr [5, 8] r 0 1\n",
      "[4, 5, 8] arr [5, 8] r 1 2\n",
      "[1, 2] arr [1] left 0 0\n",
      "[1, 2] arr [2] r 0 1\n",
      "[3, 3] arr [3] rig 0 0\n",
      "[3, 9] arr [9] l 0 1\n",
      "[1, 2, 9, 3] arr [1, 2] left 0 0\n",
      "[1, 2, 9, 3] arr [1, 2] left 1 1\n",
      "[1, 2, 3, 3] arr [3, 9] r 0 2\n",
      "[1, 2, 3, 9] arr [3, 9] r 1 3\n",
      "[1, 5, 8, 1, 2, 9, 3] arr [1, 2, 3, 9] rig 0 0\n",
      "[1, 2, 8, 1, 2, 9, 3] arr [1, 2, 3, 9] rig 1 1\n",
      "[1, 2, 3, 1, 2, 9, 3] arr [1, 2, 3, 9] rig 2 2\n",
      "[1, 2, 3, 4, 2, 9, 3] arr [4, 5, 8] left 0 3\n",
      "[1, 2, 3, 4, 5, 9, 3] arr [4, 5, 8] left 1 4\n",
      "[1, 2, 3, 4, 5, 8, 3] arr [4, 5, 8] left 2 5\n",
      "[1, 2, 3, 4, 5, 8, 9] arr [1, 2, 3, 9] r 3 6\n"
     ]
    },
    {
     "data": {
      "text/plain": [
       "[1, 2, 3, 4, 5, 8, 9]"
      ]
     },
     "execution_count": 144,
     "metadata": {},
     "output_type": "execute_result"
    }
   ],
   "source": [
    "merge_sort([4,5,8,1,2,9,3])"
   ]
  },
  {
   "cell_type": "code",
   "execution_count": null,
   "id": "ddf5fec6-e2ae-4ba2-b40d-d430754d521a",
   "metadata": {},
   "outputs": [],
   "source": []
  },
  {
   "cell_type": "code",
   "execution_count": null,
   "id": "4b5a4d12-b2bc-4723-b7a2-60a8da240bc2",
   "metadata": {},
   "outputs": [],
   "source": []
  }
 ],
 "metadata": {
  "kernelspec": {
   "display_name": "Python 3 (ipykernel)",
   "language": "python",
   "name": "python3"
  },
  "language_info": {
   "codemirror_mode": {
    "name": "ipython",
    "version": 3
   },
   "file_extension": ".py",
   "mimetype": "text/x-python",
   "name": "python",
   "nbconvert_exporter": "python",
   "pygments_lexer": "ipython3",
   "version": "3.11.5"
  }
 },
 "nbformat": 4,
 "nbformat_minor": 5
}
