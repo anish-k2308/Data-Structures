{
 "cells": [
  {
   "cell_type": "code",
   "execution_count": 1,
   "id": "a782888f-02a3-49de-ac9b-00e9ad0a0625",
   "metadata": {},
   "outputs": [],
   "source": [
    "def merge(arr,left,right):\n",
    "    h = 0\n",
    "    j = 0\n",
    "    i = 0\n",
    "    while(h<len(left) and j<len(right)):\n",
    "        if (left[h]<right[j]):\n",
    "            arr[i] = left[h]\n",
    "            h += 1\n",
    "        else:\n",
    "            arr[i] = right[j]\n",
    "            j += 1\n",
    "        i+=1\n",
    "    while h<len(left):\n",
    "        arr[i] = left[h]\n",
    "        h+=1\n",
    "        i+=1\n",
    "    while j<len(right):\n",
    "        arr[i] = right[j]\n",
    "        j+=1\n",
    "        i+=1"
   ]
  },
  {
   "cell_type": "code",
   "execution_count": 2,
   "id": "3bcb1893-87c1-4f64-bc74-497c99cc3aa0",
   "metadata": {},
   "outputs": [],
   "source": [
    "def merge_sort(arr):\n",
    "    if len(arr)>1:\n",
    "        left = arr[:len(arr)//2]\n",
    "        right = arr[len(arr)//2:]\n",
    "        merge_sort(left)\n",
    "        merge_sort(right)\n",
    "        merge(arr,left,right)\n",
    "    return arr"
   ]
  },
  {
   "cell_type": "code",
   "execution_count": 3,
   "id": "3d2612e6-13fd-4986-830d-848f9c3aba5d",
   "metadata": {},
   "outputs": [
    {
     "data": {
      "text/plain": [
       "[1, 2, 3, 4, 5, 8, 9]"
      ]
     },
     "execution_count": 3,
     "metadata": {},
     "output_type": "execute_result"
    }
   ],
   "source": [
    "merge_sort([4,5,8,1,2,9,3])"
   ]
  },
  {
   "cell_type": "code",
   "execution_count": null,
   "id": "4b5a4d12-b2bc-4723-b7a2-60a8da240bc2",
   "metadata": {},
   "outputs": [],
   "source": []
  }
 ],
 "metadata": {
  "kernelspec": {
   "display_name": "Python 3 (ipykernel)",
   "language": "python",
   "name": "python3"
  },
  "language_info": {
   "codemirror_mode": {
    "name": "ipython",
    "version": 3
   },
   "file_extension": ".py",
   "mimetype": "text/x-python",
   "name": "python",
   "nbconvert_exporter": "python",
   "pygments_lexer": "ipython3",
   "version": "3.11.5"
  }
 },
 "nbformat": 4,
 "nbformat_minor": 5
}
