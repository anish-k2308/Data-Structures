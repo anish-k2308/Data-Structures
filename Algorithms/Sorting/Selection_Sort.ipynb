{
 "cells": [
  {
   "cell_type": "code",
   "execution_count": 86,
   "id": "5b4b435c-45d7-4ccc-a877-90fbb4f07702",
   "metadata": {},
   "outputs": [],
   "source": [
    "def selection_sort(arr):\n",
    "    for i in range(len(arr)-1):\n",
    "        mine = i\n",
    "        for j in range(i+1,len(arr)):\n",
    "            if arr[j]<arr[mine]:\n",
    "                mine  = j\n",
    "        arr[i],arr[mine] = arr[mine],arr[i]\n",
    "    return arr"
   ]
  },
  {
   "cell_type": "code",
   "execution_count": 88,
   "id": "805e5e1e-83bf-41ea-9fa0-0f425e31c9ba",
   "metadata": {},
   "outputs": [
    {
     "data": {
      "text/plain": [
       "[1, 2, 3, 4, 6, 9]"
      ]
     },
     "execution_count": 88,
     "metadata": {},
     "output_type": "execute_result"
    }
   ],
   "source": [
    "selection_sort([6,9,2,1,3,4])"
   ]
  },
  {
   "cell_type": "code",
   "execution_count": null,
   "id": "1ab295b6-1805-409f-b329-e8b80bfe9865",
   "metadata": {},
   "outputs": [],
   "source": []
  }
 ],
 "metadata": {
  "kernelspec": {
   "display_name": "Python 3 (ipykernel)",
   "language": "python",
   "name": "python3"
  },
  "language_info": {
   "codemirror_mode": {
    "name": "ipython",
    "version": 3
   },
   "file_extension": ".py",
   "mimetype": "text/x-python",
   "name": "python",
   "nbconvert_exporter": "python",
   "pygments_lexer": "ipython3",
   "version": "3.11.5"
  }
 },
 "nbformat": 4,
 "nbformat_minor": 5
}
