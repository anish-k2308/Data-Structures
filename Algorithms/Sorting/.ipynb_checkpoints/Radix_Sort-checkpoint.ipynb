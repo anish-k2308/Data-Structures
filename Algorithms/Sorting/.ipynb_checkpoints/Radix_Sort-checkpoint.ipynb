{
 "cells": [
  {
   "cell_type": "code",
   "execution_count": 75,
   "id": "f10c530d-6640-4bdf-961a-29ad849a7577",
   "metadata": {},
   "outputs": [],
   "source": [
    "def maxe(arr):\n",
    "    maxe = 0\n",
    "    for i in range(len(arr)):\n",
    "        if arr[i]>maxe:\n",
    "            maxe = arr[i]\n",
    "    return maxe"
   ]
  },
  {
   "cell_type": "code",
   "execution_count": 77,
   "id": "75501f3c-ee17-424e-98cf-d873d5ca0ad7",
   "metadata": {},
   "outputs": [],
   "source": [
    "def counting(arr,place):\n",
    "    size = len(arr)\n",
    "    op = [0]*size\n",
    "    count = [0]*10\n",
    "    #count array\n",
    "    for i in range(size):\n",
    "        ind = arr[i]//place\n",
    "        count[ind%10]+=1\n",
    "    #cum freq\n",
    "    for i in range(1,10):\n",
    "        count[i]+=count[i-1]\n",
    "    i = size -1\n",
    "    while i>=0:\n",
    "        index = arr[i]//place\n",
    "        op[count[index%10]-1] = arr[i]\n",
    "        count[index%10]-=1\n",
    "        i-=1\n",
    "    for i in range(size):\n",
    "        arr[i] = op[i]\n",
    "    "
   ]
  },
  {
   "cell_type": "code",
   "execution_count": 79,
   "id": "c4adc757-f8cc-4f9a-89cb-2fe6f437ad09",
   "metadata": {},
   "outputs": [],
   "source": [
    "def radix_sort(arr):\n",
    "    maxes = maxe(arr)\n",
    "    place = 1\n",
    "    while maxes // place > 0:\n",
    "        counting(arr,place)\n",
    "        place*=10\n",
    "    print(arr)"
   ]
  },
  {
   "cell_type": "code",
   "execution_count": 81,
   "id": "8dbc0baf-ed43-4844-b878-3db4f3add0bc",
   "metadata": {},
   "outputs": [
    {
     "name": "stdout",
     "output_type": "stream",
     "text": [
      "[4, 7, 64, 65, 83, 99, 124, 333, 545, 723]\n"
     ]
    }
   ],
   "source": [
    "radix_sort([723,83,333,64,4,124,545,65,7,99])"
   ]
  },
  {
   "cell_type": "code",
   "execution_count": 73,
   "id": "9febaca3-ad19-4a5a-abd4-9fa3ad27cc7b",
   "metadata": {},
   "outputs": [
    {
     "data": {
      "text/plain": [
       "3"
      ]
     },
     "execution_count": 73,
     "metadata": {},
     "output_type": "execute_result"
    }
   ],
   "source": [
    "maxe([723,83,333,64,4,124,545,65,7,99])"
   ]
  },
  {
   "cell_type": "code",
   "execution_count": 25,
   "id": "fabcfe1f-ce6c-4632-8125-34b37d3b1ac3",
   "metadata": {},
   "outputs": [
    {
     "data": {
      "text/plain": [
       "0"
      ]
     },
     "execution_count": 25,
     "metadata": {},
     "output_type": "execute_result"
    }
   ],
   "source": []
  },
  {
   "cell_type": "code",
   "execution_count": null,
   "id": "5cb6ea27-1fdc-4dd5-a91d-ce9feea66071",
   "metadata": {},
   "outputs": [],
   "source": []
  }
 ],
 "metadata": {
  "kernelspec": {
   "display_name": "Python 3 (ipykernel)",
   "language": "python",
   "name": "python3"
  },
  "language_info": {
   "codemirror_mode": {
    "name": "ipython",
    "version": 3
   },
   "file_extension": ".py",
   "mimetype": "text/x-python",
   "name": "python",
   "nbconvert_exporter": "python",
   "pygments_lexer": "ipython3",
   "version": "3.11.5"
  }
 },
 "nbformat": 4,
 "nbformat_minor": 5
}
