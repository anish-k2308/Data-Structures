{
 "cells": [
  {
   "cell_type": "code",
   "execution_count": 99,
   "id": "63796df4-0f5f-4182-b25a-c920351922e8",
   "metadata": {},
   "outputs": [],
   "source": [
    "def insertion_sort(arr):\n",
    "    for j in range(1,len(arr)):\n",
    "        key = arr[j]\n",
    "        i = j-1\n",
    "        while (i>=0 and arr[i]>key):\n",
    "            arr[i+1] = arr[i]\n",
    "            i-=1\n",
    "        arr[i+1] = key\n",
    "    return arr"
   ]
  },
  {
   "cell_type": "code",
   "execution_count": 101,
   "id": "037c8527-a213-4b68-8873-7d2d5177269f",
   "metadata": {},
   "outputs": [
    {
     "data": {
      "text/plain": [
       "[15, 22, 49, 85, 86, 97]"
      ]
     },
     "execution_count": 101,
     "metadata": {},
     "output_type": "execute_result"
    }
   ],
   "source": [
    "insertion_sort([85,22,49,97,86,15])"
   ]
  },
  {
   "cell_type": "code",
   "execution_count": null,
   "id": "cec2b98d-cc3f-4b03-8a80-b114a745b3bf",
   "metadata": {},
   "outputs": [],
   "source": []
  }
 ],
 "metadata": {
  "kernelspec": {
   "display_name": "Python 3 (ipykernel)",
   "language": "python",
   "name": "python3"
  },
  "language_info": {
   "codemirror_mode": {
    "name": "ipython",
    "version": 3
   },
   "file_extension": ".py",
   "mimetype": "text/x-python",
   "name": "python",
   "nbconvert_exporter": "python",
   "pygments_lexer": "ipython3",
   "version": "3.11.5"
  }
 },
 "nbformat": 4,
 "nbformat_minor": 5
}
