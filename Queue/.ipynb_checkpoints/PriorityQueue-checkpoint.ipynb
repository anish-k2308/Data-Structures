{
 "cells": [
  {
   "cell_type": "code",
   "execution_count": 1,
   "id": "225b9587-65ec-400a-8d2d-b92750f39115",
   "metadata": {},
   "outputs": [],
   "source": [
    "class PriorityQueue:\n",
    "    def __init__(self,max_size):\n",
    "        self.pq = []\n",
    "        self.max_size = max_size \n",
    "    def enqueue(self,val):\n",
    "        pass\n",
    "    def dequeue(self):\n",
    "        pass"
   ]
  },
  {
   "cell_type": "code",
   "execution_count": null,
   "id": "b91c84fb-402f-4abe-9aad-3403749ade52",
   "metadata": {},
   "outputs": [],
   "source": []
  }
 ],
 "metadata": {
  "kernelspec": {
   "display_name": "Python 3 (ipykernel)",
   "language": "python",
   "name": "python3"
  },
  "language_info": {
   "codemirror_mode": {
    "name": "ipython",
    "version": 3
   },
   "file_extension": ".py",
   "mimetype": "text/x-python",
   "name": "python",
   "nbconvert_exporter": "python",
   "pygments_lexer": "ipython3",
   "version": "3.11.5"
  }
 },
 "nbformat": 4,
 "nbformat_minor": 5
}
