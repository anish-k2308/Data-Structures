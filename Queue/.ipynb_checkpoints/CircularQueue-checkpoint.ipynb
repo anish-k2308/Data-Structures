{
 "cells": [
  {
   "cell_type": "code",
   "execution_count": 13,
   "id": "e9dd59dd-bbfd-4886-9189-bcdcc39cb174",
   "metadata": {},
   "outputs": [],
   "source": [
    "class CircularQueue:\n",
    "    def __init__(self,max_size):\n",
    "        self.queue = []\n",
    "        self.rear = -1\n",
    "        self.front = -1\n",
    "        self.max_size = max_size\n",
    "    def enqueue(self,val):\n",
    "        if self.rear == -1 and self.front == -1:\n",
    "            self.rear = (self.rear+1)%self.max_size\n",
    "            self.front=(self.front+1)%self.max_size\n",
    "            return self.queue.append(val),'rear->', self.rear,'front->', self.front\n",
    "        elif self.front == (self.rear+1)%self.max_size:\n",
    "            return 'queue is full'\n",
    "        else:\n",
    "            self.rear=(self.rear+1)%self.max_size\n",
    "            return self.queue.append(val),'rear->', self.rear,'front->', self.front\n",
    "    def dequeue(self):\n",
    "        if self.front == -1:\n",
    "            return 'empty'\n",
    "        elif self.front == self.rear:\n",
    "            self.front= -1\n",
    "            self.rear= -1\n",
    "            return self.queue.pop(0),'rear->', self.rear,'front->', self.front\n",
    "        else:\n",
    "            self.front=(self.front+1)%self.max_size\n",
    "            return self.queue.pop(0),'rear->', self.rear,'front->', self.front\n",
    "             "
   ]
  },
  {
   "cell_type": "code",
   "execution_count": 15,
   "id": "251cdf0a-b783-4af7-a010-5bd9b2930d89",
   "metadata": {},
   "outputs": [],
   "source": [
    "cq = CircularQueue(6)"
   ]
  },
  {
   "cell_type": "code",
   "execution_count": 17,
   "id": "385fdba4-21e1-4c8c-894f-316659ff8349",
   "metadata": {},
   "outputs": [
    {
     "data": {
      "text/plain": [
       "(None, 'rear->', 0, 'front->', 0)"
      ]
     },
     "execution_count": 17,
     "metadata": {},
     "output_type": "execute_result"
    }
   ],
   "source": [
    "cq.enqueue(1)"
   ]
  },
  {
   "cell_type": "code",
   "execution_count": 19,
   "id": "5cad8fb7-ccf0-4b32-b965-45810aae2bcf",
   "metadata": {},
   "outputs": [
    {
     "data": {
      "text/plain": [
       "(None, 'rear->', 1, 'front->', 0)"
      ]
     },
     "execution_count": 19,
     "metadata": {},
     "output_type": "execute_result"
    }
   ],
   "source": [
    "cq.enqueue(2)"
   ]
  },
  {
   "cell_type": "code",
   "execution_count": 21,
   "id": "ace3c704-60fb-4200-8011-c9f9c4341ab0",
   "metadata": {},
   "outputs": [
    {
     "data": {
      "text/plain": [
       "(None, 'rear->', 2, 'front->', 0)"
      ]
     },
     "execution_count": 21,
     "metadata": {},
     "output_type": "execute_result"
    }
   ],
   "source": [
    "cq.enqueue(3)"
   ]
  },
  {
   "cell_type": "code",
   "execution_count": 23,
   "id": "544d86bb-f957-4e4c-b7cb-cb142078c751",
   "metadata": {},
   "outputs": [
    {
     "data": {
      "text/plain": [
       "(None, 'rear->', 3, 'front->', 0)"
      ]
     },
     "execution_count": 23,
     "metadata": {},
     "output_type": "execute_result"
    }
   ],
   "source": [
    "cq.enqueue(4)"
   ]
  },
  {
   "cell_type": "code",
   "execution_count": 25,
   "id": "1dbd1496-5442-4a68-a946-1eed8302de8d",
   "metadata": {},
   "outputs": [
    {
     "data": {
      "text/plain": [
       "(None, 'rear->', 4, 'front->', 0)"
      ]
     },
     "execution_count": 25,
     "metadata": {},
     "output_type": "execute_result"
    }
   ],
   "source": [
    "cq.enqueue(5)"
   ]
  },
  {
   "cell_type": "code",
   "execution_count": 29,
   "id": "1c1384e6-9fee-43f3-a4c4-74d9c9c00751",
   "metadata": {},
   "outputs": [
    {
     "data": {
      "text/plain": [
       "'queue is full'"
      ]
     },
     "execution_count": 29,
     "metadata": {},
     "output_type": "execute_result"
    }
   ],
   "source": [
    "cq.enqueue(6)"
   ]
  },
  {
   "cell_type": "code",
   "execution_count": 43,
   "id": "bcae269c-2aa4-4a9a-965d-c438e68ba657",
   "metadata": {},
   "outputs": [
    {
     "data": {
      "text/plain": [
       "'empty'"
      ]
     },
     "execution_count": 43,
     "metadata": {},
     "output_type": "execute_result"
    }
   ],
   "source": [
    "cq.dequeue()"
   ]
  },
  {
   "cell_type": "code",
   "execution_count": null,
   "id": "00b5f523-a1ca-43bb-99e9-a60787eba7c8",
   "metadata": {},
   "outputs": [],
   "source": []
  }
 ],
 "metadata": {
  "kernelspec": {
   "display_name": "Python 3 (ipykernel)",
   "language": "python",
   "name": "python3"
  },
  "language_info": {
   "codemirror_mode": {
    "name": "ipython",
    "version": 3
   },
   "file_extension": ".py",
   "mimetype": "text/x-python",
   "name": "python",
   "nbconvert_exporter": "python",
   "pygments_lexer": "ipython3",
   "version": "3.11.5"
  }
 },
 "nbformat": 4,
 "nbformat_minor": 5
}
