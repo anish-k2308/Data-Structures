{
 "cells": [
  {
   "cell_type": "code",
   "execution_count": 105,
   "id": "2629d046-91ca-4c15-a7b9-5e20bb664344",
   "metadata": {},
   "outputs": [],
   "source": [
    "class Queue:\n",
    "    def __init__(self,max_size):\n",
    "        self.queue = []\n",
    "        self.rear = -1\n",
    "        self.front = -1\n",
    "        self.max_size = max_size\n",
    "    def enqueue(self,val):\n",
    "        if self.rear == -1 and self.front == -1:\n",
    "            self.rear+=1\n",
    "            self.front+=1\n",
    "            return self.queue.append(val),'rear->', self.rear,'front->', self.front\n",
    "        elif self.rear == self.max_size-1:\n",
    "            return 'queue is full'\n",
    "        else:\n",
    "            self.rear+=1\n",
    "            return self.queue.append(val),'rear->', self.rear,'front->', self.front\n",
    "    def dequeue(self):\n",
    "        if self.front == -1:\n",
    "            return 'empty'\n",
    "        elif self.front == self.rear:\n",
    "            self.front= -1\n",
    "            self.rear= -1\n",
    "            return self.queue.pop(0),'rear->', self.rear,'front->', self.front\n",
    "        else:\n",
    "            self.front +=1\n",
    "            return self.queue.pop(0),'rear->', self.rear,'front->', self.front\n",
    "             "
   ]
  },
  {
   "cell_type": "code",
   "execution_count": 107,
   "id": "a3ec7c66-f8fd-4115-b3db-6d25e0d23e3c",
   "metadata": {},
   "outputs": [],
   "source": [
    "q = Queue(4)"
   ]
  },
  {
   "cell_type": "code",
   "execution_count": 109,
   "id": "a67ecc80-5ec7-4664-8956-97e8d1fc3f43",
   "metadata": {},
   "outputs": [
    {
     "data": {
      "text/plain": [
       "(None, 'rear->', 0, 'front->', 0)"
      ]
     },
     "execution_count": 109,
     "metadata": {},
     "output_type": "execute_result"
    }
   ],
   "source": [
    "q.enqueue(2)"
   ]
  },
  {
   "cell_type": "code",
   "execution_count": 111,
   "id": "cc83fcdd-b402-490c-84b0-6bc25dd7e4c9",
   "metadata": {},
   "outputs": [
    {
     "data": {
      "text/plain": [
       "(None, 'rear->', 1, 'front->', 0)"
      ]
     },
     "execution_count": 111,
     "metadata": {},
     "output_type": "execute_result"
    }
   ],
   "source": [
    "q.enqueue(4)"
   ]
  },
  {
   "cell_type": "code",
   "execution_count": 113,
   "id": "0e30b23c-4305-4d9e-a0da-86a3cad2b045",
   "metadata": {},
   "outputs": [
    {
     "data": {
      "text/plain": [
       "(None, 'rear->', 2, 'front->', 0)"
      ]
     },
     "execution_count": 113,
     "metadata": {},
     "output_type": "execute_result"
    }
   ],
   "source": [
    "q.enqueue(8)"
   ]
  },
  {
   "cell_type": "code",
   "execution_count": 115,
   "id": "50f7a4e7-4898-4646-b676-00a1d9a9d39a",
   "metadata": {},
   "outputs": [
    {
     "data": {
      "text/plain": [
       "(None, 'rear->', 3, 'front->', 0)"
      ]
     },
     "execution_count": 115,
     "metadata": {},
     "output_type": "execute_result"
    }
   ],
   "source": [
    "q.enqueue(9)"
   ]
  },
  {
   "cell_type": "code",
   "execution_count": 127,
   "id": "916dc75b-e760-4700-b948-314a7669cdf9",
   "metadata": {},
   "outputs": [
    {
     "data": {
      "text/plain": [
       "'empty'"
      ]
     },
     "execution_count": 127,
     "metadata": {},
     "output_type": "execute_result"
    }
   ],
   "source": [
    "q.dequeue()"
   ]
  },
  {
   "cell_type": "code",
   "execution_count": 123,
   "id": "b92f60e6-bb46-4cb4-a633-31ca90279689",
   "metadata": {},
   "outputs": [
    {
     "ename": "NameError",
     "evalue": "name 'arr' is not defined",
     "output_type": "error",
     "traceback": [
      "\u001b[1;31m---------------------------------------------------------------------------\u001b[0m",
      "\u001b[1;31mNameError\u001b[0m                                 Traceback (most recent call last)",
      "Cell \u001b[1;32mIn[123], line 1\u001b[0m\n\u001b[1;32m----> 1\u001b[0m arr\u001b[38;5;241m.\u001b[39minsert(\u001b[38;5;241m0\u001b[39m,\u001b[38;5;241m2\u001b[39m)\n",
      "\u001b[1;31mNameError\u001b[0m: name 'arr' is not defined"
     ]
    }
   ],
   "source": [
    "arr.insert(0,2)"
   ]
  },
  {
   "cell_type": "code",
   "execution_count": null,
   "id": "beb656fb-41c7-43a2-ac13-0de5a7a4702f",
   "metadata": {},
   "outputs": [],
   "source": []
  }
 ],
 "metadata": {
  "kernelspec": {
   "display_name": "Python 3 (ipykernel)",
   "language": "python",
   "name": "python3"
  },
  "language_info": {
   "codemirror_mode": {
    "name": "ipython",
    "version": 3
   },
   "file_extension": ".py",
   "mimetype": "text/x-python",
   "name": "python",
   "nbconvert_exporter": "python",
   "pygments_lexer": "ipython3",
   "version": "3.11.5"
  }
 },
 "nbformat": 4,
 "nbformat_minor": 5
}
