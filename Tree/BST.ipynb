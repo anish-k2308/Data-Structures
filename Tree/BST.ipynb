{
 "cells": [
  {
   "cell_type": "code",
   "execution_count": 233,
   "id": "20301962-96b2-4308-b4a1-c78205983521",
   "metadata": {},
   "outputs": [],
   "source": [
    "class BST:\n",
    "    def __init__(self,root):\n",
    "        self.left = None\n",
    "        self.root = root\n",
    "        self.right = None\n",
    "        \n",
    "    def insert(self,val):\n",
    "        if val == self.root:\n",
    "            return\n",
    "        if val < self.root:\n",
    "            if self.left:\n",
    "                self.left.insert(val)\n",
    "            else:\n",
    "                self.left = BST(val)\n",
    "        else:\n",
    "            if self.right:\n",
    "                self.right.insert(val)\n",
    "            else:\n",
    "                self.right = BST(val)\n",
    "    \n",
    "    def inorder(self):\n",
    "        element = []\n",
    "        if self.left:\n",
    "            element+=self.left.inorder()\n",
    "        element.append(self.root)\n",
    "        if self.right:\n",
    "            element+=self.right.inorder()\n",
    "        return element\n",
    "        \n",
    "    def preorder(self):\n",
    "        element = []\n",
    "        element.append(self.root)\n",
    "        if self.left:\n",
    "            element+=self.left.preorder()\n",
    "        if self.right:\n",
    "            element+=self.right.preorder()\n",
    "        return element\n",
    "        \n",
    "    def postorder(self):\n",
    "        element = []\n",
    "        if self.left:\n",
    "            element+=self.left.postorder()\n",
    "        if self.right:\n",
    "            element+= self.right.postorder()\n",
    "        element.append(self.root)\n",
    "        return element\n",
    "        \n",
    "    def bfs(self):\n",
    "        queue = []\n",
    "        res = []\n",
    "        res.append(self.root)\n",
    "        queue.append(self.left)\n",
    "        queue.append(self.right)\n",
    "        while queue:\n",
    "            x = queue.pop(0)\n",
    "            res.append(x.root)\n",
    "            if x.left:\n",
    "                queue.append(x.left)\n",
    "            if x.right:\n",
    "                queue.append(x.right)           \n",
    "        return res\n",
    "        \n",
    "    def dfs(self):\n",
    "        stack = []\n",
    "        res = []\n",
    "        stack.append(self.right)\n",
    "        stack.append(self.left)\n",
    "        res.append(self.root)\n",
    "        while stack:\n",
    "            x = stack.pop()\n",
    "            res.append(x.root)\n",
    "            if x.left:\n",
    "                stack.append(x.right)\n",
    "                stack.append(x.left)\n",
    "            if x.right:\n",
    "                stack.append(x.right)\n",
    "                stack.append(x.left)\n",
    "        return res\n",
    "        \n",
    "            \n",
    "            \n",
    "        \n",
    "        "
   ]
  },
  {
   "cell_type": "code",
   "execution_count": 235,
   "id": "94e5b3f4-23e7-4f81-9a46-5f41620e2d56",
   "metadata": {},
   "outputs": [],
   "source": [
    "tre = BST(39)"
   ]
  },
  {
   "cell_type": "code",
   "execution_count": 237,
   "id": "f0c33462-e843-4463-bfa5-ec671ddc0d3e",
   "metadata": {},
   "outputs": [],
   "source": [
    "tre.insert(21)"
   ]
  },
  {
   "cell_type": "code",
   "execution_count": 239,
   "id": "5ff3f565-fd90-4abd-9838-20e890631c81",
   "metadata": {},
   "outputs": [],
   "source": [
    "tre.insert(35)"
   ]
  },
  {
   "cell_type": "code",
   "execution_count": 241,
   "id": "70128df7-69fc-4fe1-944c-a4b2241aaeef",
   "metadata": {},
   "outputs": [],
   "source": [
    "tre.insert(47)"
   ]
  },
  {
   "cell_type": "code",
   "execution_count": 243,
   "id": "adcb58af-cf8b-4717-bff2-2e918a852654",
   "metadata": {},
   "outputs": [],
   "source": [
    "tre.insert(15)"
   ]
  },
  {
   "cell_type": "code",
   "execution_count": 245,
   "id": "57e80f13-3dbb-4003-bf25-19789509d799",
   "metadata": {},
   "outputs": [],
   "source": [
    "tre.insert(64)"
   ]
  },
  {
   "cell_type": "code",
   "execution_count": 247,
   "id": "f542eff4-c1f7-4086-a1bc-3692d170f40a",
   "metadata": {},
   "outputs": [
    {
     "data": {
      "text/plain": [
       "[15, 21, 35, 39, 47, 64]"
      ]
     },
     "execution_count": 247,
     "metadata": {},
     "output_type": "execute_result"
    }
   ],
   "source": [
    "tre.inorder()"
   ]
  },
  {
   "cell_type": "code",
   "execution_count": 249,
   "id": "84028f9d-a7fa-42ff-8501-6b389d3af37e",
   "metadata": {},
   "outputs": [
    {
     "data": {
      "text/plain": [
       "[39, 21, 15, 35, 47, 64]"
      ]
     },
     "execution_count": 249,
     "metadata": {},
     "output_type": "execute_result"
    }
   ],
   "source": [
    "tre.preorder()"
   ]
  },
  {
   "cell_type": "code",
   "execution_count": 251,
   "id": "fd294517-c083-4abc-a0f2-99af317539b6",
   "metadata": {},
   "outputs": [
    {
     "data": {
      "text/plain": [
       "[15, 35, 21, 64, 47, 39]"
      ]
     },
     "execution_count": 251,
     "metadata": {},
     "output_type": "execute_result"
    }
   ],
   "source": [
    "tre.postorder()"
   ]
  },
  {
   "cell_type": "code",
   "execution_count": 253,
   "id": "f5fccc44-de11-4bc6-9b68-7f2823e55715",
   "metadata": {},
   "outputs": [
    {
     "data": {
      "text/plain": [
       "[39, 21, 47, 15, 35, 64]"
      ]
     },
     "execution_count": 253,
     "metadata": {},
     "output_type": "execute_result"
    }
   ],
   "source": [
    "tre.bfs()"
   ]
  },
  {
   "cell_type": "code",
   "execution_count": 255,
   "id": "e7620d51-03bd-44c8-9b60-2b12bca938a5",
   "metadata": {},
   "outputs": [
    {
     "ename": "AttributeError",
     "evalue": "'NoneType' object has no attribute 'root'",
     "output_type": "error",
     "traceback": [
      "\u001b[1;31m---------------------------------------------------------------------------\u001b[0m",
      "\u001b[1;31mAttributeError\u001b[0m                            Traceback (most recent call last)",
      "Cell \u001b[1;32mIn[255], line 1\u001b[0m\n\u001b[1;32m----> 1\u001b[0m tre\u001b[38;5;241m.\u001b[39mdfs()\n",
      "Cell \u001b[1;32mIn[233], line 71\u001b[0m, in \u001b[0;36mBST.dfs\u001b[1;34m(self)\u001b[0m\n\u001b[0;32m     69\u001b[0m \u001b[38;5;28;01mwhile\u001b[39;00m stack:\n\u001b[0;32m     70\u001b[0m     x \u001b[38;5;241m=\u001b[39m stack\u001b[38;5;241m.\u001b[39mpop()\n\u001b[1;32m---> 71\u001b[0m     res\u001b[38;5;241m.\u001b[39mappend(x\u001b[38;5;241m.\u001b[39mroot)\n\u001b[0;32m     72\u001b[0m     \u001b[38;5;28;01mif\u001b[39;00m x\u001b[38;5;241m.\u001b[39mleft:\n\u001b[0;32m     73\u001b[0m         stack\u001b[38;5;241m.\u001b[39mappend(x\u001b[38;5;241m.\u001b[39mright)\n",
      "\u001b[1;31mAttributeError\u001b[0m: 'NoneType' object has no attribute 'root'"
     ]
    }
   ],
   "source": [
    "tre.dfs()"
   ]
  },
  {
   "cell_type": "code",
   "execution_count": null,
   "id": "bdc39f8f-da7a-4a7e-9add-5e51ec365743",
   "metadata": {},
   "outputs": [],
   "source": []
  }
 ],
 "metadata": {
  "kernelspec": {
   "display_name": "Python 3 (ipykernel)",
   "language": "python",
   "name": "python3"
  },
  "language_info": {
   "codemirror_mode": {
    "name": "ipython",
    "version": 3
   },
   "file_extension": ".py",
   "mimetype": "text/x-python",
   "name": "python",
   "nbconvert_exporter": "python",
   "pygments_lexer": "ipython3",
   "version": "3.11.5"
  }
 },
 "nbformat": 4,
 "nbformat_minor": 5
}
