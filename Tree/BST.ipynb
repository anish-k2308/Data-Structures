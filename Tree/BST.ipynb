{
 "cells": [
  {
   "cell_type": "code",
   "execution_count": 479,
   "id": "20301962-96b2-4308-b4a1-c78205983521",
   "metadata": {},
   "outputs": [],
   "source": [
    "class BST:\n",
    "    def __init__(self,root):\n",
    "        self.left = None\n",
    "        self.root = root\n",
    "        self.right = None\n",
    "        \n",
    "    def insert(self,val):\n",
    "        if val == self.root:\n",
    "            return\n",
    "        if val < self.root:\n",
    "            if self.left:\n",
    "                self.left.insert(val)\n",
    "            else:\n",
    "                self.left = BST(val)\n",
    "        else:\n",
    "            if self.right:\n",
    "                self.right.insert(val)\n",
    "            else:\n",
    "                self.right = BST(val)\n",
    "    \n",
    "    def inorder(self):\n",
    "        element = []\n",
    "        if self.left:\n",
    "            element+=self.left.inorder()\n",
    "        element.append(self.root)\n",
    "        if self.right:\n",
    "            element+=self.right.inorder()\n",
    "        return element\n",
    "        \n",
    "    def preorder(self):\n",
    "        element = []\n",
    "        element.append(self.root)\n",
    "        if self.left:\n",
    "            element+=self.left.preorder()\n",
    "        if self.right:\n",
    "            element+=self.right.preorder()\n",
    "        return element\n",
    "        \n",
    "    def postorder(self):\n",
    "        element = []\n",
    "        if self.left:\n",
    "            element+=self.left.postorder()\n",
    "        if self.right:\n",
    "            element+= self.right.postorder()\n",
    "        element.append(self.root)\n",
    "        return element\n",
    "        "
   ]
  },
  {
   "cell_type": "code",
   "execution_count": 481,
   "id": "94e5b3f4-23e7-4f81-9a46-5f41620e2d56",
   "metadata": {},
   "outputs": [],
   "source": [
    "tre = BST(39)"
   ]
  },
  {
   "cell_type": "code",
   "execution_count": 483,
   "id": "f0c33462-e843-4463-bfa5-ec671ddc0d3e",
   "metadata": {},
   "outputs": [],
   "source": [
    "tre.insert(21)"
   ]
  },
  {
   "cell_type": "code",
   "execution_count": 485,
   "id": "5ff3f565-fd90-4abd-9838-20e890631c81",
   "metadata": {},
   "outputs": [],
   "source": [
    "tre.insert(35)"
   ]
  },
  {
   "cell_type": "code",
   "execution_count": 487,
   "id": "70128df7-69fc-4fe1-944c-a4b2241aaeef",
   "metadata": {},
   "outputs": [],
   "source": [
    "tre.insert(47)"
   ]
  },
  {
   "cell_type": "code",
   "execution_count": 489,
   "id": "adcb58af-cf8b-4717-bff2-2e918a852654",
   "metadata": {},
   "outputs": [],
   "source": [
    "tre.insert(15)"
   ]
  },
  {
   "cell_type": "code",
   "execution_count": 491,
   "id": "57e80f13-3dbb-4003-bf25-19789509d799",
   "metadata": {},
   "outputs": [],
   "source": [
    "tre.insert(64)"
   ]
  },
  {
   "cell_type": "code",
   "execution_count": 493,
   "id": "f542eff4-c1f7-4086-a1bc-3692d170f40a",
   "metadata": {},
   "outputs": [
    {
     "data": {
      "text/plain": [
       "[15, 21, 35, 39, 47, 64]"
      ]
     },
     "execution_count": 493,
     "metadata": {},
     "output_type": "execute_result"
    }
   ],
   "source": [
    "tre.inorder()"
   ]
  },
  {
   "cell_type": "code",
   "execution_count": 495,
   "id": "84028f9d-a7fa-42ff-8501-6b389d3af37e",
   "metadata": {},
   "outputs": [
    {
     "data": {
      "text/plain": [
       "[39, 21, 15, 35, 47, 64]"
      ]
     },
     "execution_count": 495,
     "metadata": {},
     "output_type": "execute_result"
    }
   ],
   "source": [
    "tre.preorder()"
   ]
  },
  {
   "cell_type": "code",
   "execution_count": 497,
   "id": "fd294517-c083-4abc-a0f2-99af317539b6",
   "metadata": {},
   "outputs": [
    {
     "data": {
      "text/plain": [
       "[15, 35, 21, 64, 47, 39]"
      ]
     },
     "execution_count": 497,
     "metadata": {},
     "output_type": "execute_result"
    }
   ],
   "source": [
    "tre.postorder()"
   ]
  },
  {
   "cell_type": "code",
   "execution_count": null,
   "id": "f5fccc44-de11-4bc6-9b68-7f2823e55715",
   "metadata": {},
   "outputs": [],
   "source": []
  }
 ],
 "metadata": {
  "kernelspec": {
   "display_name": "Python 3 (ipykernel)",
   "language": "python",
   "name": "python3"
  },
  "language_info": {
   "codemirror_mode": {
    "name": "ipython",
    "version": 3
   },
   "file_extension": ".py",
   "mimetype": "text/x-python",
   "name": "python",
   "nbconvert_exporter": "python",
   "pygments_lexer": "ipython3",
   "version": "3.11.5"
  }
 },
 "nbformat": 4,
 "nbformat_minor": 5
}
