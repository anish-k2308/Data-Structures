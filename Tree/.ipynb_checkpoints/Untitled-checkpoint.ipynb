{
 "cells": [
  {
   "cell_type": "code",
   "execution_count": 555,
   "id": "820c1f7e-16c9-442b-a45a-62729cc799e3",
   "metadata": {},
   "outputs": [],
   "source": [
    "class BST:\n",
    "    al = {}\n",
    "    def __init__(self,data):\n",
    "        self.left = None\n",
    "        self.right = None\n",
    "        self.data = data\n",
    "    def insert(self,data):\n",
    "        if self.data is None:\n",
    "            self.data = data\n",
    "        else:\n",
    "            if data < self.data:\n",
    "                if self.left:\n",
    "                    self.left.insert(data)\n",
    "                else:\n",
    "                    self.left = BST(data)\n",
    "            else:\n",
    "                if self.right:\n",
    "                    self.right.insert(data)\n",
    "                else:\n",
    "                    self.right = BST(data)\n",
    "        return self.data,self.left,self.right\n",
    "    def inorders(self):\n",
    "        if self is None :\n",
    "            return\n",
    "        else:\n",
    "            if self.left is not None:\n",
    "                self.left.inorders()\n",
    "            print(self.data,end=' ')\n",
    "            if self.right is not None:\n",
    "                self.right.inorders()\n",
    "    def preorder(self):\n",
    "        if self is None:\n",
    "            return\n",
    "        else:\n",
    "            print(self.data,end=' ')\n",
    "            if self.left is not None:\n",
    "                self.left.preorder()\n",
    "            if self.right is not None:\n",
    "                self.right.preorder()\n",
    "    def postorder(self):\n",
    "        if self is None:\n",
    "            return\n",
    "        else:\n",
    "            if self.left:\n",
    "                self.left.postorder()\n",
    "            if self.right:\n",
    "                self.right.postorder()\n",
    "            print(self.data,end=' ')\n",
    "    def adjacency(self):\n",
    "        if self is not None:\n",
    "            self.al[self.data] = []\n",
    "            if self.left:\n",
    "                self.al[self.data].append(self.left.data)\n",
    "                self.left.adjacency() \n",
    "            if self.right:\n",
    "                self.al[self.data].append(self.right.data)\n",
    "                self.right.adjacency()    \n",
    "\n",
    "\n"
   ]
  },
  {
   "cell_type": "code",
   "execution_count": 557,
   "id": "38f5c611-845a-48ea-8252-0154822c4198",
   "metadata": {},
   "outputs": [],
   "source": [
    "tree=BST(6)"
   ]
  },
  {
   "cell_type": "code",
   "execution_count": 559,
   "id": "12b3c00d-4fdf-4d99-a7b6-3b918057704b",
   "metadata": {},
   "outputs": [
    {
     "data": {
      "text/plain": [
       "(6, <__main__.BST at 0x221d93f4a50>, <__main__.BST at 0x221d93f7c50>)"
      ]
     },
     "execution_count": 559,
     "metadata": {},
     "output_type": "execute_result"
    }
   ],
   "source": [
    "tree.insert(5)\n",
    "tree.insert(7)\n",
    "tree.insert(3)\n",
    "tree.insert(4)\n",
    "tree.insert(2)\n",
    "tree.insert(8)"
   ]
  },
  {
   "cell_type": "code",
   "execution_count": 561,
   "id": "ca504acf-e49d-4c90-a021-a0fb18f338b1",
   "metadata": {},
   "outputs": [
    {
     "name": "stdout",
     "output_type": "stream",
     "text": [
      "2 3 4 5 6 7 8 "
     ]
    }
   ],
   "source": [
    "tree.inorders()"
   ]
  },
  {
   "cell_type": "code",
   "execution_count": 563,
   "id": "d1341ff6-5297-4262-b690-f939258896f4",
   "metadata": {},
   "outputs": [
    {
     "name": "stdout",
     "output_type": "stream",
     "text": [
      "6 5 3 2 4 7 8 "
     ]
    }
   ],
   "source": [
    "tree.preorder()"
   ]
  },
  {
   "cell_type": "code",
   "execution_count": 565,
   "id": "57c7dac6-ef9f-4ebf-aab2-98992ef916cc",
   "metadata": {},
   "outputs": [
    {
     "name": "stdout",
     "output_type": "stream",
     "text": [
      "2 4 3 5 8 7 6 "
     ]
    }
   ],
   "source": [
    "tree.postorder()"
   ]
  },
  {
   "cell_type": "code",
   "execution_count": 567,
   "id": "87905a2d-fee6-48ed-ac18-fb4666fa23cf",
   "metadata": {},
   "outputs": [
    {
     "name": "stdout",
     "output_type": "stream",
     "text": [
      "{6: [], 5: [], 3: [], 2: []}\n",
      "{6: [], 5: [], 3: [], 2: []}\n",
      "{6: [], 5: [], 3: [], 2: []}\n",
      "{6: [], 5: [], 3: [2, 4], 2: [], 4: []}\n",
      "{6: [], 5: [], 3: [2, 4], 2: [], 4: []}\n",
      "{6: [], 5: [], 3: [2, 4], 2: [], 4: []}\n",
      "{6: [], 5: [], 3: [2, 4], 2: [], 4: []}\n",
      "{6: [], 5: [3], 3: [2, 4], 2: [], 4: []}\n",
      "{6: [], 5: [3], 3: [2, 4], 2: [], 4: []}\n",
      "{6: [5, 7], 5: [3], 3: [2, 4], 2: [], 4: [], 7: []}\n",
      "{6: [5, 7], 5: [3], 3: [2, 4], 2: [], 4: [], 7: [8], 8: []}\n",
      "{6: [5, 7], 5: [3], 3: [2, 4], 2: [], 4: [], 7: [8], 8: []}\n",
      "{6: [5, 7], 5: [3], 3: [2, 4], 2: [], 4: [], 7: [8], 8: []}\n",
      "{6: [5, 7], 5: [3], 3: [2, 4], 2: [], 4: [], 7: [8], 8: []}\n",
      "{6: [5, 7], 5: [3], 3: [2, 4], 2: [], 4: [], 7: [8], 8: []}\n"
     ]
    }
   ],
   "source": [
    "adjacenc(tree)"
   ]
  },
  {
   "cell_type": "code",
   "execution_count": 569,
   "id": "a34041bf-e0b0-411e-9adb-55c70a432bc4",
   "metadata": {},
   "outputs": [],
   "source": [
    "tree.adjacency()"
   ]
  },
  {
   "cell_type": "code",
   "execution_count": 571,
   "id": "1dc8f47b-7341-46cd-b658-da523d81e5f1",
   "metadata": {},
   "outputs": [
    {
     "data": {
      "text/plain": [
       "{6: [5, 7], 5: [3], 3: [2, 4], 2: [], 4: [], 7: [8], 8: []}"
      ]
     },
     "execution_count": 571,
     "metadata": {},
     "output_type": "execute_result"
    }
   ],
   "source": [
    "tree.al"
   ]
  },
  {
   "cell_type": "code",
   "execution_count": null,
   "id": "3fd13df4-4366-4baf-b159-a89bbf379d6a",
   "metadata": {},
   "outputs": [],
   "source": []
  }
 ],
 "metadata": {
  "kernelspec": {
   "display_name": "Python 3 (ipykernel)",
   "language": "python",
   "name": "python3"
  },
  "language_info": {
   "codemirror_mode": {
    "name": "ipython",
    "version": 3
   },
   "file_extension": ".py",
   "mimetype": "text/x-python",
   "name": "python",
   "nbconvert_exporter": "python",
   "pygments_lexer": "ipython3",
   "version": "3.11.5"
  }
 },
 "nbformat": 4,
 "nbformat_minor": 5
}
