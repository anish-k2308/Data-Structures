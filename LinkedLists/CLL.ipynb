{
 "cells": [
  {
   "cell_type": "code",
   "execution_count": 1,
   "id": "8cf1ef39-1959-4304-8128-4e3a87766b4f",
   "metadata": {},
   "outputs": [],
   "source": [
    "class Node:\n",
    "    def __init__(self,data):\n",
    "        self.data = data\n",
    "        self.next = None"
   ]
  },
  {
   "cell_type": "code",
   "execution_count": 40,
   "id": "1592b972-1cf8-4eda-b4f0-3c6a410cd906",
   "metadata": {},
   "outputs": [],
   "source": [
    "class CircularList(Node):\n",
    "    def __init__(self):\n",
    "        self.head = None\n",
    "        \n",
    "    def insert(self,val):\n",
    "        new = Node(val)\n",
    "        if self.head is None:\n",
    "            self.head = new\n",
    "            new.next = self.head\n",
    "        else:\n",
    "            curr = self.head.next\n",
    "            if curr == self.head:\n",
    "                self.head.next = new\n",
    "                new.next = self.head\n",
    "            else:\n",
    "                newcurr = curr\n",
    "                while curr != self.head:\n",
    "                    newcurr = curr\n",
    "                    curr = curr.next\n",
    "                newcurr.next = new\n",
    "                new.next = self.head\n",
    "        return self.head\n",
    "\n",
    "    def insertatfront(self,value):\n",
    "        new = Node(value)\n",
    "        if self.head is None:\n",
    "            self.head = new\n",
    "            new.next = self.head\n",
    "        else:\n",
    "            curr = self.head.next\n",
    "            newcurr = curr\n",
    "            while newcurr != self.head:\n",
    "                curr = newcurr\n",
    "                newcurr = newcurr.next\n",
    "            new.next = self.head\n",
    "            self.head = new\n",
    "            curr.next = self.head\n",
    "        return self.head\n",
    "\n",
    "    def deleteFront(self):\n",
    "        if self.head is None:\n",
    "            return \"Already Empty\"\n",
    "        elif self.head.next is self.head:\n",
    "            self.head = None\n",
    "        else:\n",
    "            curr = self.head.next\n",
    "            newcurr = curr\n",
    "            while curr is not self.head:\n",
    "                newcurr = curr\n",
    "                curr = curr.next\n",
    "            newcurr.next = self.head.next\n",
    "            self.head = self.head.next\n",
    "        return self.printll()\n",
    "\n",
    "    def deleteTail(self):\n",
    "        if self.head.next is self.head:\n",
    "            self.head = None\n",
    "        elif self.head.next and self.head.next.next is self.head:\n",
    "            self.head.next.next = None\n",
    "            self.head.next = self.head\n",
    "        else:\n",
    "            curr = self.head.next\n",
    "            cure = curr\n",
    "            prev = curr\n",
    "            while curr.next is not self.head:\n",
    "                prev = curr\n",
    "                curr = curr.next\n",
    "            prev.next = self.head\n",
    "            curr = None\n",
    "        return self.printll()\n",
    "         \n",
    "        \n",
    "    def printll(self):\n",
    "        if self.head is None:\n",
    "            print(\"Empty\")\n",
    "        else:\n",
    "            print(self.head.data)\n",
    "            curr = self.head.next\n",
    "            while curr != self.head:\n",
    "                print(curr.data)\n",
    "                curr = curr.next"
   ]
  },
  {
   "cell_type": "code",
   "execution_count": 41,
   "id": "5e71b34f-e073-4141-a43f-8f6ae81ca87d",
   "metadata": {},
   "outputs": [
    {
     "name": "stdout",
     "output_type": "stream",
     "text": [
      "1\n",
      "2\n",
      "3\n",
      "4\n",
      "5\n"
     ]
    }
   ],
   "source": [
    "cll = CircularList()\n",
    "cll.insert(1)\n",
    "cll.insert(2)\n",
    "cll.insert(3)\n",
    "cll.insert(4)\n",
    "cll.insert(5)\n",
    "cll.printll()"
   ]
  },
  {
   "cell_type": "code",
   "execution_count": 42,
   "id": "d24b331b-db38-4d62-8d5d-c9d8df5f6c6a",
   "metadata": {},
   "outputs": [
    {
     "name": "stdout",
     "output_type": "stream",
     "text": [
      "1\n",
      "2\n",
      "3\n",
      "4\n"
     ]
    }
   ],
   "source": [
    "ne = CircularList()\n",
    "ne.insertatfront(4)\n",
    "ne.insertatfront(3)\n",
    "ne.insertatfront(2)\n",
    "ne.insertatfront(1)\n",
    "ne.printll()"
   ]
  },
  {
   "cell_type": "code",
   "execution_count": 43,
   "id": "2abb59c9-1f07-4215-b145-cce3d3331c50",
   "metadata": {},
   "outputs": [
    {
     "name": "stdout",
     "output_type": "stream",
     "text": [
      "2\n",
      "3\n",
      "4\n"
     ]
    }
   ],
   "source": [
    "ne.deleteFront()"
   ]
  },
  {
   "cell_type": "code",
   "execution_count": 49,
   "id": "c11cd8ce-a647-4166-8872-08d1d69838cd",
   "metadata": {},
   "outputs": [
    {
     "name": "stdout",
     "output_type": "stream",
     "text": [
      "Empty\n"
     ]
    }
   ],
   "source": [
    "cll.deleteTail()"
   ]
  },
  {
   "cell_type": "code",
   "execution_count": null,
   "id": "b8825793-359b-424d-b174-64603bbc0447",
   "metadata": {},
   "outputs": [],
   "source": []
  }
 ],
 "metadata": {
  "kernelspec": {
   "display_name": "Python 3 (ipykernel)",
   "language": "python",
   "name": "python3"
  },
  "language_info": {
   "codemirror_mode": {
    "name": "ipython",
    "version": 3
   },
   "file_extension": ".py",
   "mimetype": "text/x-python",
   "name": "python",
   "nbconvert_exporter": "python",
   "pygments_lexer": "ipython3",
   "version": "3.12.7"
  }
 },
 "nbformat": 4,
 "nbformat_minor": 5
}
