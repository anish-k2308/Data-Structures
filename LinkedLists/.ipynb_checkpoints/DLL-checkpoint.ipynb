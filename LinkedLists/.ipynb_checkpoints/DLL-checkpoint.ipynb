{
 "cells": [
  {
   "cell_type": "code",
   "execution_count": 6,
   "id": "118c8999-83fa-43c8-b789-843112b18fa4",
   "metadata": {},
   "outputs": [],
   "source": [
    "class Node:\n",
    "    def __init__(self,data):\n",
    "        self.data = data\n",
    "        self.prev = None\n",
    "        self.next = None"
   ]
  },
  {
   "cell_type": "code",
   "execution_count": 269,
   "id": "2667f9d0-c0a9-4599-8b6a-9172db042d0d",
   "metadata": {},
   "outputs": [],
   "source": [
    "class LinkedList(Node):\n",
    "    def __init__(self):\n",
    "        self.head = None\n",
    "        self.tail = None\n",
    "    def insert_front(self,val):\n",
    "        new_node = Node(val)\n",
    "        if self.head is None:\n",
    "            self.head = new_node\n",
    "            self.tail = new_node\n",
    "        else:\n",
    "            new_node.next = self.head\n",
    "            new_node.next.prev = new_node\n",
    "            self.head = new_node\n",
    "    def insert_at_pos(self,val,pos):\n",
    "        count = 1\n",
    "        new_node = Node(val)\n",
    "        if pos == 1:\n",
    "            new_node.next = self.head\n",
    "            new_node.next.prev = new_node\n",
    "            self.head = new_node\n",
    "        else:\n",
    "            temp = self.head\n",
    "            while count < pos-1:\n",
    "                temp = temp.next\n",
    "                count+=1\n",
    "            new_node.next = temp.next\n",
    "            new_node.next.prev = new_node\n",
    "            temp.next = new_node\n",
    "            new_node.prev = temp\n",
    "    def insert_rear(self,value):\n",
    "        new_node = Node(value)\n",
    "        if self.head is None and self.tail is None:\n",
    "            self.head = new_node\n",
    "            self.tail = new_node\n",
    "        else:\n",
    "            new_node.prev = self.tail\n",
    "            new_node.prev.next = new_node\n",
    "            self.tail = new_node\n",
    "    def delete_front(self):\n",
    "        if self.head is None and self.tail is None:\n",
    "            return 'Empty'\n",
    "        elif self.head.next is None:\n",
    "            self.head = None\n",
    "            self.tail = None\n",
    "        else:\n",
    "            temp = self.head\n",
    "            temp.next.prev = None\n",
    "            self.head = temp.next\n",
    "            temp = None\n",
    "    def delete_rear(self):\n",
    "        if self.tail is None and self.head is None:\n",
    "            return 'Empty'\n",
    "        elif self.tail.prev is None:\n",
    "            self.tail = None\n",
    "            self.head = None\n",
    "        else:\n",
    "            temp = self.tail\n",
    "            temp.prev.next = None\n",
    "            self.tail = temp.prev\n",
    "            temp = None\n",
    "    def traverse(self):\n",
    "        if self.head is None and self.tail is None:\n",
    "            print('Empty')\n",
    "        else:\n",
    "            print('Head -> ',end='')\n",
    "            temp = self.head\n",
    "            while temp is not None:\n",
    "                print(temp.data,' -> ',end = '')\n",
    "                temp = temp.next\n",
    "            print('Tail')"
   ]
  },
  {
   "cell_type": "code",
   "execution_count": 271,
   "id": "27056d70-d5a2-43af-b47d-0c355645ed88",
   "metadata": {},
   "outputs": [],
   "source": [
    "a = LinkedList()"
   ]
  },
  {
   "cell_type": "code",
   "execution_count": 303,
   "id": "2cf2c8ca-99eb-4020-9347-096f86b2a9ee",
   "metadata": {},
   "outputs": [],
   "source": [
    "a.insert_front(5)"
   ]
  },
  {
   "cell_type": "code",
   "execution_count": 305,
   "id": "c2f06d2b-d874-4405-8f7c-72477e22ab8b",
   "metadata": {},
   "outputs": [],
   "source": [
    "a.insert_front(4)"
   ]
  },
  {
   "cell_type": "code",
   "execution_count": 307,
   "id": "b2cc0cfb-6f82-4c43-93f5-ebe6c2783fd1",
   "metadata": {},
   "outputs": [
    {
     "name": "stdout",
     "output_type": "stream",
     "text": [
      "Head -> 4  -> 5  -> Tail\n"
     ]
    }
   ],
   "source": [
    "a.traverse()"
   ]
  },
  {
   "cell_type": "code",
   "execution_count": 309,
   "id": "6144e591-ca26-4f01-9ee6-d17ce4aa9cae",
   "metadata": {},
   "outputs": [],
   "source": [
    "a.insert_at_pos(2,1)"
   ]
  },
  {
   "cell_type": "code",
   "execution_count": 311,
   "id": "de858bb6-9b7f-4191-a9b2-7be34f0776d1",
   "metadata": {},
   "outputs": [
    {
     "name": "stdout",
     "output_type": "stream",
     "text": [
      "Head -> 2  -> 4  -> 5  -> Tail\n"
     ]
    }
   ],
   "source": [
    "a.traverse()"
   ]
  },
  {
   "cell_type": "code",
   "execution_count": 313,
   "id": "8349a8d8-19fb-465f-822b-57ffcd4feaf4",
   "metadata": {},
   "outputs": [],
   "source": [
    "a.insert_rear(7)"
   ]
  },
  {
   "cell_type": "code",
   "execution_count": 315,
   "id": "3ea6fe27-daae-4baa-aa3e-60e8f1a3fe38",
   "metadata": {},
   "outputs": [
    {
     "name": "stdout",
     "output_type": "stream",
     "text": [
      "Head -> 2  -> 4  -> 5  -> 7  -> Tail\n"
     ]
    }
   ],
   "source": [
    "a.traverse()"
   ]
  },
  {
   "cell_type": "code",
   "execution_count": 287,
   "id": "56dd4d87-3b7d-49c4-8c47-ee473b5d4e7a",
   "metadata": {},
   "outputs": [],
   "source": [
    "a.delete_front()"
   ]
  },
  {
   "cell_type": "code",
   "execution_count": 289,
   "id": "08ba8428-7569-4be1-aa57-86708e73cfa0",
   "metadata": {},
   "outputs": [
    {
     "name": "stdout",
     "output_type": "stream",
     "text": [
      "Head -> 4  -> 5  -> 7  -> Tail\n"
     ]
    }
   ],
   "source": [
    "a.traverse()"
   ]
  },
  {
   "cell_type": "code",
   "execution_count": 291,
   "id": "1f298bb1-7726-4ac7-a661-b73b12cbb628",
   "metadata": {},
   "outputs": [],
   "source": [
    "a.delete_rear()"
   ]
  },
  {
   "cell_type": "code",
   "execution_count": 293,
   "id": "f732cb7d-bb68-4df5-a68f-956bc143ab83",
   "metadata": {},
   "outputs": [
    {
     "name": "stdout",
     "output_type": "stream",
     "text": [
      "Head -> 4  -> 5  -> Tail\n"
     ]
    }
   ],
   "source": [
    "a.traverse()"
   ]
  }
 ],
 "metadata": {
  "kernelspec": {
   "display_name": "Python 3 (ipykernel)",
   "language": "python",
   "name": "python3"
  },
  "language_info": {
   "codemirror_mode": {
    "name": "ipython",
    "version": 3
   },
   "file_extension": ".py",
   "mimetype": "text/x-python",
   "name": "python",
   "nbconvert_exporter": "python",
   "pygments_lexer": "ipython3",
   "version": "3.11.5"
  }
 },
 "nbformat": 4,
 "nbformat_minor": 5
}
