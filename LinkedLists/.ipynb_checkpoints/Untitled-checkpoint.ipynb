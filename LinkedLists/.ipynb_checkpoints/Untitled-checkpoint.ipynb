{
 "cells": [
  {
   "cell_type": "code",
   "execution_count": 5,
   "id": "f32dd7f3-3bf8-4717-af7c-c165b5663eb5",
   "metadata": {},
   "outputs": [],
   "source": [
    "class Node:\n",
    "    def __init__(self,data):\n",
    "        self.data = data\n",
    "        self.next = None"
   ]
  },
  {
   "cell_type": "code",
   "execution_count": 88,
   "id": "061b919a-212c-4dc4-bb9d-705fca70a9a3",
   "metadata": {},
   "outputs": [],
   "source": [
    "class LinkedList(Node):\n",
    "    def __init__(self):\n",
    "        self.head = None\n",
    "    def insert(self,val):\n",
    "        new_node = Node(val)\n",
    "        if self.head is None:\n",
    "            self.head = new_node\n",
    "        else:\n",
    "            temp = self.head\n",
    "            while temp.next is not None:\n",
    "                temp = temp.next\n",
    "            temp.next = new_node\n",
    "    def traverse(self):\n",
    "        temp = self.head\n",
    "        if self.head is None:\n",
    "            return 'empty'\n",
    "        else:\n",
    "            print('Head -> ',end='')\n",
    "            while temp.next is not None:\n",
    "                print(temp.data,'-> ',end = '')\n",
    "                temp = temp.next\n",
    "            print(temp.data,' -> ',temp.next)"
   ]
  },
  {
   "cell_type": "code",
   "execution_count": 90,
   "id": "a840d610-dbcc-4b8b-b62a-042ea9c7f3d1",
   "metadata": {},
   "outputs": [],
   "source": [
    "a = LinkedList()"
   ]
  },
  {
   "cell_type": "code",
   "execution_count": 92,
   "id": "da995d76-c031-47cb-aac6-79a62690c1e7",
   "metadata": {},
   "outputs": [],
   "source": [
    "a.insert(2)\n",
    "a.insert(4)\n",
    "a.insert(5)\n",
    "a.insert(7)"
   ]
  },
  {
   "cell_type": "code",
   "execution_count": 94,
   "id": "ab1ba315-18e4-4df9-91e2-4b6b6ee730eb",
   "metadata": {},
   "outputs": [
    {
     "name": "stdout",
     "output_type": "stream",
     "text": [
      "Head -> 2 -> 4 -> 5 -> 7  ->  None\n"
     ]
    }
   ],
   "source": [
    "a.traverse()"
   ]
  },
  {
   "cell_type": "code",
   "execution_count": 96,
   "id": "d21a84e6-d1aa-4997-ad5f-5c882b38e763",
   "metadata": {},
   "outputs": [],
   "source": [
    "b = LinkedList()"
   ]
  },
  {
   "cell_type": "code",
   "execution_count": 98,
   "id": "5bf27210-6b5b-4de9-93ea-88397b446bf9",
   "metadata": {},
   "outputs": [
    {
     "data": {
      "text/plain": [
       "'empty'"
      ]
     },
     "execution_count": 98,
     "metadata": {},
     "output_type": "execute_result"
    }
   ],
   "source": [
    "b.traverse()"
   ]
  },
  {
   "cell_type": "code",
   "execution_count": null,
   "id": "c10d1055-4bc3-4c8c-8546-fb5afa077153",
   "metadata": {},
   "outputs": [],
   "source": []
  }
 ],
 "metadata": {
  "kernelspec": {
   "display_name": "Python 3 (ipykernel)",
   "language": "python",
   "name": "python3"
  },
  "language_info": {
   "codemirror_mode": {
    "name": "ipython",
    "version": 3
   },
   "file_extension": ".py",
   "mimetype": "text/x-python",
   "name": "python",
   "nbconvert_exporter": "python",
   "pygments_lexer": "ipython3",
   "version": "3.11.5"
  }
 },
 "nbformat": 4,
 "nbformat_minor": 5
}
