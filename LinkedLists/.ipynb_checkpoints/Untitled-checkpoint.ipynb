{
 "cells": [
  {
   "cell_type": "code",
   "execution_count": 1,
   "id": "118c8999-83fa-43c8-b789-843112b18fa4",
   "metadata": {},
   "outputs": [],
   "source": [
    "class Node:\n",
    "    def __init__(self,data):\n",
    "        self.data = data\n",
    "        self.prev = None\n",
    "        self.next = None"
   ]
  },
  {
   "cell_type": "code",
   "execution_count": 131,
   "id": "2667f9d0-c0a9-4599-8b6a-9172db042d0d",
   "metadata": {},
   "outputs": [],
   "source": [
    "class LinkedList(Node):\n",
    "    def __init__(self):\n",
    "        self.head = None\n",
    "        self.tail = None\n",
    "    def insert_front(self,val):\n",
    "        new_node = Node(val)\n",
    "        if self.head is None:\n",
    "            self.head = new_node\n",
    "            self.tail = new_node\n",
    "        else:\n",
    "            new_node.next = self.head\n",
    "            new_node.next.prev = new_node\n",
    "            self.head = new_node\n",
    "    def insert_at_pos(self,val,pos):\n",
    "        count = 1\n",
    "        new_node = Node(val)\n",
    "        if pos == 1:\n",
    "            new_node.next = self.head\n",
    "            new_node.next.prev = new_node\n",
    "            self.head = new_node\n",
    "        else:\n",
    "            temp = self.head\n",
    "            while count < pos-1:\n",
    "                temp = temp.next\n",
    "                count+=1\n",
    "            new_node.next = temp.next\n",
    "            new_node.next.prev = new_node\n",
    "            temp.next = new_node\n",
    "            new_node.prev = temp\n",
    "    def traverse(self):\n",
    "        if self.head is None:\n",
    "            print('Empty')\n",
    "        else:\n",
    "            print('Head -> ',end='')\n",
    "            temp = self.head\n",
    "            while temp is not None:\n",
    "                print(temp.data,' -> ',end = '')\n",
    "                temp = temp.next\n",
    "            print('Tail')"
   ]
  },
  {
   "cell_type": "code",
   "execution_count": 133,
   "id": "27056d70-d5a2-43af-b47d-0c355645ed88",
   "metadata": {},
   "outputs": [],
   "source": [
    "a = LinkedList()"
   ]
  },
  {
   "cell_type": "code",
   "execution_count": 135,
   "id": "2cf2c8ca-99eb-4020-9347-096f86b2a9ee",
   "metadata": {},
   "outputs": [],
   "source": [
    "a.insert_front(5)"
   ]
  },
  {
   "cell_type": "code",
   "execution_count": 137,
   "id": "c2f06d2b-d874-4405-8f7c-72477e22ab8b",
   "metadata": {},
   "outputs": [],
   "source": [
    "a.insert_front(4)"
   ]
  },
  {
   "cell_type": "code",
   "execution_count": 139,
   "id": "b2cc0cfb-6f82-4c43-93f5-ebe6c2783fd1",
   "metadata": {},
   "outputs": [
    {
     "name": "stdout",
     "output_type": "stream",
     "text": [
      "Head -> 4  -> 5  -> Tail\n"
     ]
    }
   ],
   "source": [
    "a.traverse()"
   ]
  },
  {
   "cell_type": "code",
   "execution_count": 153,
   "id": "6144e591-ca26-4f01-9ee6-d17ce4aa9cae",
   "metadata": {},
   "outputs": [
    {
     "ename": "AttributeError",
     "evalue": "'NoneType' object has no attribute 'prev'",
     "output_type": "error",
     "traceback": [
      "\u001b[1;31m---------------------------------------------------------------------------\u001b[0m",
      "\u001b[1;31mAttributeError\u001b[0m                            Traceback (most recent call last)",
      "Cell \u001b[1;32mIn[153], line 1\u001b[0m\n\u001b[1;32m----> 1\u001b[0m a\u001b[38;5;241m.\u001b[39minsert_at_pos(\u001b[38;5;241m6\u001b[39m,\u001b[38;5;241m6\u001b[39m)\n",
      "Cell \u001b[1;32mIn[131], line 27\u001b[0m, in \u001b[0;36mLinkedList.insert_at_pos\u001b[1;34m(self, val, pos)\u001b[0m\n\u001b[0;32m     25\u001b[0m     count\u001b[38;5;241m+\u001b[39m\u001b[38;5;241m=\u001b[39m\u001b[38;5;241m1\u001b[39m\n\u001b[0;32m     26\u001b[0m new_node\u001b[38;5;241m.\u001b[39mnext \u001b[38;5;241m=\u001b[39m temp\u001b[38;5;241m.\u001b[39mnext\n\u001b[1;32m---> 27\u001b[0m new_node\u001b[38;5;241m.\u001b[39mnext\u001b[38;5;241m.\u001b[39mprev \u001b[38;5;241m=\u001b[39m new_node\n\u001b[0;32m     28\u001b[0m temp\u001b[38;5;241m.\u001b[39mnext \u001b[38;5;241m=\u001b[39m new_node\n\u001b[0;32m     29\u001b[0m new_node\u001b[38;5;241m.\u001b[39mprev \u001b[38;5;241m=\u001b[39m temp\n",
      "\u001b[1;31mAttributeError\u001b[0m: 'NoneType' object has no attribute 'prev'"
     ]
    }
   ],
   "source": [
    "a.insert_at_pos(6,6)"
   ]
  },
  {
   "cell_type": "code",
   "execution_count": 151,
   "id": "de858bb6-9b7f-4191-a9b2-7be34f0776d1",
   "metadata": {},
   "outputs": [
    {
     "name": "stdout",
     "output_type": "stream",
     "text": [
      "Head -> 1  -> 2  -> 3  -> 4  -> 5  -> Tail\n"
     ]
    }
   ],
   "source": [
    "a.traverse()"
   ]
  },
  {
   "cell_type": "code",
   "execution_count": null,
   "id": "8349a8d8-19fb-465f-822b-57ffcd4feaf4",
   "metadata": {},
   "outputs": [],
   "source": []
  },
  {
   "cell_type": "code",
   "execution_count": null,
   "id": "3ea6fe27-daae-4baa-aa3e-60e8f1a3fe38",
   "metadata": {},
   "outputs": [],
   "source": []
  }
 ],
 "metadata": {
  "kernelspec": {
   "display_name": "Python 3 (ipykernel)",
   "language": "python",
   "name": "python3"
  },
  "language_info": {
   "codemirror_mode": {
    "name": "ipython",
    "version": 3
   },
   "file_extension": ".py",
   "mimetype": "text/x-python",
   "name": "python",
   "nbconvert_exporter": "python",
   "pygments_lexer": "ipython3",
   "version": "3.11.5"
  }
 },
 "nbformat": 4,
 "nbformat_minor": 5
}
