{
 "cells": [
  {
   "cell_type": "code",
   "execution_count": 1,
   "id": "f32dd7f3-3bf8-4717-af7c-c165b5663eb5",
   "metadata": {},
   "outputs": [],
   "source": [
    "class Node:\n",
    "    def __init__(self,data):\n",
    "        self.data = data\n",
    "        self.next = None"
   ]
  },
  {
   "cell_type": "code",
   "execution_count": 129,
   "id": "061b919a-212c-4dc4-bb9d-705fca70a9a3",
   "metadata": {},
   "outputs": [],
   "source": [
    "class LinkedList(Node):\n",
    "    def __init__(self):\n",
    "        self.head = None\n",
    "    def insert_at_front(self,val):\n",
    "        new_node = Node(val)\n",
    "        if self.head is None:\n",
    "            self.head = new_node\n",
    "        else:\n",
    "            new_node.next = self.head\n",
    "            self.head = new_node\n",
    "    def insert_at_end(self,val):\n",
    "        new_node = Node(val)\n",
    "        if self.head is None:\n",
    "            self.head = new_node\n",
    "        else:\n",
    "            temp = self.head\n",
    "            while temp.next is not None:\n",
    "                temp = temp.next\n",
    "            temp.next = new_node\n",
    "    def insert_at_middle(self,val,pos):\n",
    "        new_node = Node(val)\n",
    "        if pos == 1:\n",
    "            new_node.next = self.head\n",
    "            self.head = new_node\n",
    "        else:\n",
    "            temp = self.head\n",
    "            i = 1\n",
    "            while i<pos-1:\n",
    "                temp = temp.next\n",
    "                i+=1\n",
    "            new_node.next = temp.next\n",
    "            temp.next = new_node\n",
    "    def traverse(self):\n",
    "        temp = self.head\n",
    "        if self.head is None:\n",
    "            return 'empty'\n",
    "        else:\n",
    "            print('Head -> ',end='')\n",
    "            while temp.next is not None:\n",
    "                print(temp.data,'-> ',end = '')\n",
    "                temp = temp.next\n",
    "            print(temp.data,' -> ',temp.next)\n",
    "    def search(self,key):\n",
    "        count = 0\n",
    "        temp = self.head\n",
    "        while temp.next is not None:\n",
    "            if (temp.data == key):\n",
    "                print('found at:',end = '')\n",
    "                return count\n",
    "            temp = temp.next\n",
    "            count+=1\n",
    "        if temp.data == key:\n",
    "            print('found at:',end = '')\n",
    "            return count\n",
    "        return 'Not Found'\n",
    "    def delete_head(self):\n",
    "        temp = self.head\n",
    "        if temp.next is not None:\n",
    "            self.head = self.head.next\n",
    "            temp = None\n",
    "        else:\n",
    "            self.head = None\n",
    "    def delete_tail(self):\n",
    "        temp = self.head\n",
    "        if temp.next is None:\n",
    "            self.head = None\n",
    "            return\n",
    "        while temp.next.next is not None:\n",
    "            temp = temp.next\n",
    "        temp2 = temp.next\n",
    "        temp.next = None\n",
    "        temp2 = None\n",
    "        return\n",
    "    def delete_at_position(self,key):\n",
    "        temp=self.head\n",
    "        if key == 0:\n",
    "            self.head = temp.next \n",
    "            temp = None\n",
    "            return\n",
    "        i = 0\n",
    "        while(i<key-1):\n",
    "            temp = temp.next\n",
    "            i+=1\n",
    "        temp2 = temp.next\n",
    "        temp.next = temp.next.next\n",
    "        temp2 = None\n",
    "        return"
   ]
  },
  {
   "cell_type": "code",
   "execution_count": 131,
   "id": "a840d610-dbcc-4b8b-b62a-042ea9c7f3d1",
   "metadata": {},
   "outputs": [],
   "source": [
    "a = LinkedList()"
   ]
  },
  {
   "cell_type": "code",
   "execution_count": 133,
   "id": "3e7e6f1e-c469-4590-b7e3-0e0cdb4a9333",
   "metadata": {},
   "outputs": [],
   "source": [
    "b = LinkedList()"
   ]
  },
  {
   "cell_type": "code",
   "execution_count": 135,
   "id": "572a3c66-4f36-4247-876f-48e51043d0dc",
   "metadata": {},
   "outputs": [],
   "source": [
    "b.insert_at_front('d')\n",
    "b.insert_at_front('c')\n",
    "b.insert_at_front('b')\n",
    "b.insert_at_front('a')"
   ]
  },
  {
   "cell_type": "code",
   "execution_count": 145,
   "id": "acd10e19-3eae-435a-b566-be1f5199a13b",
   "metadata": {},
   "outputs": [
    {
     "name": "stdout",
     "output_type": "stream",
     "text": [
      "Head -> x -> a -> t -> b -> c -> d  ->  None\n"
     ]
    }
   ],
   "source": [
    "b.traverse()"
   ]
  },
  {
   "cell_type": "code",
   "execution_count": 143,
   "id": "ee23df10-b533-4081-8859-5256ab257a74",
   "metadata": {},
   "outputs": [],
   "source": [
    "b.insert_at_middle('x',1)"
   ]
  },
  {
   "cell_type": "code",
   "execution_count": 7,
   "id": "da995d76-c031-47cb-aac6-79a62690c1e7",
   "metadata": {},
   "outputs": [],
   "source": [
    "a.insert_at_end(2)\n",
    "a.insert_at_end(4)\n",
    "a.insert_at_end(5)\n",
    "a.insert_at_end(7)"
   ]
  },
  {
   "cell_type": "code",
   "execution_count": 9,
   "id": "ab1ba315-18e4-4df9-91e2-4b6b6ee730eb",
   "metadata": {},
   "outputs": [
    {
     "name": "stdout",
     "output_type": "stream",
     "text": [
      "Head -> 2 -> 4 -> 5 -> 7  ->  None\n"
     ]
    }
   ],
   "source": [
    "a.traverse()"
   ]
  },
  {
   "cell_type": "code",
   "execution_count": 11,
   "id": "d21a84e6-d1aa-4997-ad5f-5c882b38e763",
   "metadata": {},
   "outputs": [],
   "source": [
    "b = LinkedList()"
   ]
  },
  {
   "cell_type": "code",
   "execution_count": 13,
   "id": "5bf27210-6b5b-4de9-93ea-88397b446bf9",
   "metadata": {},
   "outputs": [
    {
     "data": {
      "text/plain": [
       "'empty'"
      ]
     },
     "execution_count": 13,
     "metadata": {},
     "output_type": "execute_result"
    }
   ],
   "source": [
    "b.traverse()"
   ]
  },
  {
   "cell_type": "code",
   "execution_count": 15,
   "id": "c10d1055-4bc3-4c8c-8546-fb5afa077153",
   "metadata": {},
   "outputs": [
    {
     "name": "stdout",
     "output_type": "stream",
     "text": [
      "found at:"
     ]
    },
    {
     "data": {
      "text/plain": [
       "0"
      ]
     },
     "execution_count": 15,
     "metadata": {},
     "output_type": "execute_result"
    }
   ],
   "source": [
    "a.search(2)"
   ]
  },
  {
   "cell_type": "code",
   "execution_count": 17,
   "id": "7111a689-66c6-4e98-8e57-7805449aeee6",
   "metadata": {},
   "outputs": [
    {
     "name": "stdout",
     "output_type": "stream",
     "text": [
      "found at:"
     ]
    },
    {
     "data": {
      "text/plain": [
       "2"
      ]
     },
     "execution_count": 17,
     "metadata": {},
     "output_type": "execute_result"
    }
   ],
   "source": [
    "a.search(5)"
   ]
  },
  {
   "cell_type": "code",
   "execution_count": 19,
   "id": "ccbdc0f0-ef19-4f10-bfdb-d1c975ba69ad",
   "metadata": {},
   "outputs": [
    {
     "name": "stdout",
     "output_type": "stream",
     "text": [
      "found at:"
     ]
    },
    {
     "data": {
      "text/plain": [
       "3"
      ]
     },
     "execution_count": 19,
     "metadata": {},
     "output_type": "execute_result"
    }
   ],
   "source": [
    "a.search(7)"
   ]
  },
  {
   "cell_type": "code",
   "execution_count": 21,
   "id": "4c741b4e-9099-4118-8d5d-f7443c16a4e1",
   "metadata": {},
   "outputs": [],
   "source": [
    "a.delete_head()"
   ]
  },
  {
   "cell_type": "code",
   "execution_count": 23,
   "id": "08adcc81-c0cd-4fbb-8949-049291e7b45e",
   "metadata": {},
   "outputs": [
    {
     "name": "stdout",
     "output_type": "stream",
     "text": [
      "Head -> 4 -> 5 -> 7  ->  None\n"
     ]
    }
   ],
   "source": [
    "a.traverse()"
   ]
  },
  {
   "cell_type": "code",
   "execution_count": 25,
   "id": "418cfa34-36a1-4fc5-b8e3-ea738516e127",
   "metadata": {},
   "outputs": [],
   "source": [
    "a.delete_tail()"
   ]
  },
  {
   "cell_type": "code",
   "execution_count": 27,
   "id": "f88e7dc6-3ecc-41e7-b04e-b99e622d06de",
   "metadata": {},
   "outputs": [
    {
     "name": "stdout",
     "output_type": "stream",
     "text": [
      "Head -> 4 -> 5  ->  None\n"
     ]
    }
   ],
   "source": [
    "a.traverse()"
   ]
  },
  {
   "cell_type": "code",
   "execution_count": 29,
   "id": "eb8ee1a0-a746-4e2b-b895-f28e50ed72f5",
   "metadata": {},
   "outputs": [],
   "source": [
    "a.delete_at_position(1)"
   ]
  },
  {
   "cell_type": "code",
   "execution_count": 31,
   "id": "5487e40c-b145-4d79-ba6e-908171cf4806",
   "metadata": {},
   "outputs": [
    {
     "name": "stdout",
     "output_type": "stream",
     "text": [
      "Head -> 4  ->  None\n"
     ]
    }
   ],
   "source": [
    "a.traverse()"
   ]
  },
  {
   "cell_type": "code",
   "execution_count": 33,
   "id": "268419e6-cb2e-4a79-ac67-100045b9bd2b",
   "metadata": {},
   "outputs": [
    {
     "data": {
      "text/plain": [
       "'Not Found'"
      ]
     },
     "execution_count": 33,
     "metadata": {},
     "output_type": "execute_result"
    }
   ],
   "source": [
    "a.search(9)"
   ]
  },
  {
   "cell_type": "code",
   "execution_count": null,
   "id": "22fe9384-cc60-4ecd-8536-b85b2c18cce8",
   "metadata": {},
   "outputs": [],
   "source": []
  }
 ],
 "metadata": {
  "kernelspec": {
   "display_name": "Python 3 (ipykernel)",
   "language": "python",
   "name": "python3"
  },
  "language_info": {
   "codemirror_mode": {
    "name": "ipython",
    "version": 3
   },
   "file_extension": ".py",
   "mimetype": "text/x-python",
   "name": "python",
   "nbconvert_exporter": "python",
   "pygments_lexer": "ipython3",
   "version": "3.12.7"
  }
 },
 "nbformat": 4,
 "nbformat_minor": 5
}
