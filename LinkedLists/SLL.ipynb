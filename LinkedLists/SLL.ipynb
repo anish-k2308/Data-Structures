{
 "cells": [
  {
   "cell_type": "code",
   "execution_count": 1,
   "id": "f32dd7f3-3bf8-4717-af7c-c165b5663eb5",
   "metadata": {},
   "outputs": [],
   "source": [
    "class Node:\n",
    "    def __init__(self,data):\n",
    "        self.data = data\n",
    "        self.next = None"
   ]
  },
  {
   "cell_type": "code",
   "execution_count": 385,
   "id": "061b919a-212c-4dc4-bb9d-705fca70a9a3",
   "metadata": {},
   "outputs": [],
   "source": [
    "class LinkedList(Node):\n",
    "    def __init__(self):\n",
    "        self.head = None\n",
    "    def insert(self,val):\n",
    "        new_node = Node(val)\n",
    "        if self.head is None:\n",
    "            self.head = new_node\n",
    "        else:\n",
    "            temp = self.head\n",
    "            while temp.next is not None:\n",
    "                temp = temp.next\n",
    "            temp.next = new_node\n",
    "    def traverse(self):\n",
    "        temp = self.head\n",
    "        if self.head is None:\n",
    "            return 'empty'\n",
    "        else:\n",
    "            print('Head -> ',end='')\n",
    "            while temp.next is not None:\n",
    "                print(temp.data,'-> ',end = '')\n",
    "                temp = temp.next\n",
    "            print(temp.data,' -> ',temp.next)\n",
    "    def search(self,key):\n",
    "        count = 0\n",
    "        temp = self.head\n",
    "        while temp.next is not None:\n",
    "            if (temp.data == key):\n",
    "                print('found at:',end = '')\n",
    "                return count\n",
    "            temp = temp.next\n",
    "            count+=1\n",
    "        if temp.data == key:\n",
    "            print('found at:',end = '')\n",
    "            return count\n",
    "        return None\n",
    "    def delete_head(self):\n",
    "        temp = self.head\n",
    "        if temp.next is not None:\n",
    "            self.head = self.head.next\n",
    "            temp = None\n",
    "        else:\n",
    "            self.head = None\n",
    "    def delete_tail(self):\n",
    "        temp = self.head\n",
    "        if temp.next is None:\n",
    "            self.head = None\n",
    "            return\n",
    "        while temp.next.next is not None:\n",
    "            temp = temp.next\n",
    "        temp2 = temp.next\n",
    "        temp.next = None\n",
    "        temp2 = None\n",
    "        return\n",
    "    def delete_at_position(self,key):\n",
    "        temp=self.head\n",
    "        if key == 0:\n",
    "            self.head = temp.next \n",
    "            temp = None\n",
    "            return\n",
    "        i = 0\n",
    "        while(i<key-1):\n",
    "            temp = temp.next\n",
    "            i+=1\n",
    "        temp2 = temp.next\n",
    "        temp.next = temp.next.next\n",
    "        temp2 = None\n",
    "        return"
   ]
  },
  {
   "cell_type": "code",
   "execution_count": 387,
   "id": "a840d610-dbcc-4b8b-b62a-042ea9c7f3d1",
   "metadata": {},
   "outputs": [],
   "source": [
    "a = LinkedList()"
   ]
  },
  {
   "cell_type": "code",
   "execution_count": 389,
   "id": "da995d76-c031-47cb-aac6-79a62690c1e7",
   "metadata": {},
   "outputs": [],
   "source": [
    "a.insert(2)\n",
    "a.insert(4)\n",
    "a.insert(5)\n",
    "a.insert(7)"
   ]
  },
  {
   "cell_type": "code",
   "execution_count": 391,
   "id": "ab1ba315-18e4-4df9-91e2-4b6b6ee730eb",
   "metadata": {},
   "outputs": [
    {
     "name": "stdout",
     "output_type": "stream",
     "text": [
      "Head -> 2 -> 4 -> 5 -> 7  ->  None\n"
     ]
    }
   ],
   "source": [
    "a.traverse()"
   ]
  },
  {
   "cell_type": "code",
   "execution_count": 393,
   "id": "d21a84e6-d1aa-4997-ad5f-5c882b38e763",
   "metadata": {},
   "outputs": [],
   "source": [
    "b = LinkedList()"
   ]
  },
  {
   "cell_type": "code",
   "execution_count": 395,
   "id": "5bf27210-6b5b-4de9-93ea-88397b446bf9",
   "metadata": {},
   "outputs": [
    {
     "data": {
      "text/plain": [
       "'empty'"
      ]
     },
     "execution_count": 395,
     "metadata": {},
     "output_type": "execute_result"
    }
   ],
   "source": [
    "b.traverse()"
   ]
  },
  {
   "cell_type": "code",
   "execution_count": 397,
   "id": "c10d1055-4bc3-4c8c-8546-fb5afa077153",
   "metadata": {},
   "outputs": [
    {
     "name": "stdout",
     "output_type": "stream",
     "text": [
      "found at:"
     ]
    },
    {
     "data": {
      "text/plain": [
       "0"
      ]
     },
     "execution_count": 397,
     "metadata": {},
     "output_type": "execute_result"
    }
   ],
   "source": [
    "a.search(2)"
   ]
  },
  {
   "cell_type": "code",
   "execution_count": 399,
   "id": "7111a689-66c6-4e98-8e57-7805449aeee6",
   "metadata": {},
   "outputs": [
    {
     "name": "stdout",
     "output_type": "stream",
     "text": [
      "found at:"
     ]
    },
    {
     "data": {
      "text/plain": [
       "2"
      ]
     },
     "execution_count": 399,
     "metadata": {},
     "output_type": "execute_result"
    }
   ],
   "source": [
    "a.search(5)"
   ]
  },
  {
   "cell_type": "code",
   "execution_count": 401,
   "id": "ccbdc0f0-ef19-4f10-bfdb-d1c975ba69ad",
   "metadata": {},
   "outputs": [
    {
     "name": "stdout",
     "output_type": "stream",
     "text": [
      "found at:"
     ]
    },
    {
     "data": {
      "text/plain": [
       "3"
      ]
     },
     "execution_count": 401,
     "metadata": {},
     "output_type": "execute_result"
    }
   ],
   "source": [
    "a.search(7)"
   ]
  },
  {
   "cell_type": "code",
   "execution_count": 403,
   "id": "4c741b4e-9099-4118-8d5d-f7443c16a4e1",
   "metadata": {},
   "outputs": [],
   "source": [
    "a.delete_head()"
   ]
  },
  {
   "cell_type": "code",
   "execution_count": 405,
   "id": "08adcc81-c0cd-4fbb-8949-049291e7b45e",
   "metadata": {},
   "outputs": [
    {
     "name": "stdout",
     "output_type": "stream",
     "text": [
      "Head -> 4 -> 5 -> 7  ->  None\n"
     ]
    }
   ],
   "source": [
    "a.traverse()"
   ]
  },
  {
   "cell_type": "code",
   "execution_count": 407,
   "id": "418cfa34-36a1-4fc5-b8e3-ea738516e127",
   "metadata": {},
   "outputs": [],
   "source": [
    "a.delete_tail()"
   ]
  },
  {
   "cell_type": "code",
   "execution_count": 409,
   "id": "f88e7dc6-3ecc-41e7-b04e-b99e622d06de",
   "metadata": {},
   "outputs": [
    {
     "name": "stdout",
     "output_type": "stream",
     "text": [
      "Head -> 4 -> 5  ->  None\n"
     ]
    }
   ],
   "source": [
    "a.traverse()"
   ]
  },
  {
   "cell_type": "code",
   "execution_count": 411,
   "id": "eb8ee1a0-a746-4e2b-b895-f28e50ed72f5",
   "metadata": {},
   "outputs": [],
   "source": [
    "a.delete_at_position(1)"
   ]
  },
  {
   "cell_type": "code",
   "execution_count": 414,
   "id": "5487e40c-b145-4d79-ba6e-908171cf4806",
   "metadata": {},
   "outputs": [
    {
     "name": "stdout",
     "output_type": "stream",
     "text": [
      "Head -> 4  ->  None\n"
     ]
    }
   ],
   "source": [
    "a.traverse()"
   ]
  },
  {
   "cell_type": "code",
   "execution_count": null,
   "id": "268419e6-cb2e-4a79-ac67-100045b9bd2b",
   "metadata": {},
   "outputs": [],
   "source": []
  }
 ],
 "metadata": {
  "kernelspec": {
   "display_name": "Python 3 (ipykernel)",
   "language": "python",
   "name": "python3"
  },
  "language_info": {
   "codemirror_mode": {
    "name": "ipython",
    "version": 3
   },
   "file_extension": ".py",
   "mimetype": "text/x-python",
   "name": "python",
   "nbconvert_exporter": "python",
   "pygments_lexer": "ipython3",
   "version": "3.11.5"
  }
 },
 "nbformat": 4,
 "nbformat_minor": 5
}
