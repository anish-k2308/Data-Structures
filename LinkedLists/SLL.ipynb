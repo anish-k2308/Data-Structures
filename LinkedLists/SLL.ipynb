{
 "cells": [
  {
   "cell_type": "code",
   "execution_count": 5,
   "id": "f32dd7f3-3bf8-4717-af7c-c165b5663eb5",
   "metadata": {},
   "outputs": [],
   "source": [
    "class Node:\n",
    "    def __init__(self,data):\n",
    "        self.data = data\n",
    "        self.next = None"
   ]
  },
  {
   "cell_type": "code",
   "execution_count": 27,
   "id": "061b919a-212c-4dc4-bb9d-705fca70a9a3",
   "metadata": {},
   "outputs": [],
   "source": [
    "class LinkedList(Node):\n",
    "    def __init__(self):\n",
    "        self.head = None\n",
    "    def insert(self,val):\n",
    "        new_node = Node(val)\n",
    "        if self.head is None:\n",
    "            self.head = new_node\n",
    "        else:\n",
    "            temp = self.head\n",
    "            while temp.next is not None:\n",
    "                temp = temp.next\n",
    "            temp.next = new_node\n",
    "    def traverse(self):\n",
    "        temp = self.head\n",
    "        if self.head is None:\n",
    "            return 'empty'\n",
    "        else:\n",
    "            print('Head -> ',end='')\n",
    "            while temp.next is not None:\n",
    "                print(temp.data,'-> ',end = '')\n",
    "                temp = temp.next\n",
    "            print(temp.data,' -> ',temp.next)\n",
    "    def search(self,key):\n",
    "        count = 0\n",
    "        temp = self.head\n",
    "        while temp.next is not None:\n",
    "            if (temp.data == key):\n",
    "                return 'found at :-', count\n",
    "            temp = temp.next\n",
    "            count+=1\n",
    "        if temp.data == key:\n",
    "            return 'found at :-', count\n",
    "        return 'not found'      "
   ]
  },
  {
   "cell_type": "code",
   "execution_count": 29,
   "id": "a840d610-dbcc-4b8b-b62a-042ea9c7f3d1",
   "metadata": {},
   "outputs": [],
   "source": [
    "a = LinkedList()"
   ]
  },
  {
   "cell_type": "code",
   "execution_count": 31,
   "id": "da995d76-c031-47cb-aac6-79a62690c1e7",
   "metadata": {},
   "outputs": [],
   "source": [
    "a.insert(2)\n",
    "a.insert(4)\n",
    "a.insert(5)\n",
    "a.insert(7)"
   ]
  },
  {
   "cell_type": "code",
   "execution_count": 33,
   "id": "ab1ba315-18e4-4df9-91e2-4b6b6ee730eb",
   "metadata": {},
   "outputs": [
    {
     "name": "stdout",
     "output_type": "stream",
     "text": [
      "Head -> 2 -> 4 -> 5 -> 7  ->  None\n"
     ]
    }
   ],
   "source": [
    "a.traverse()"
   ]
  },
  {
   "cell_type": "code",
   "execution_count": 35,
   "id": "d21a84e6-d1aa-4997-ad5f-5c882b38e763",
   "metadata": {},
   "outputs": [],
   "source": [
    "b = LinkedList()"
   ]
  },
  {
   "cell_type": "code",
   "execution_count": 37,
   "id": "5bf27210-6b5b-4de9-93ea-88397b446bf9",
   "metadata": {},
   "outputs": [
    {
     "data": {
      "text/plain": [
       "'empty'"
      ]
     },
     "execution_count": 37,
     "metadata": {},
     "output_type": "execute_result"
    }
   ],
   "source": [
    "b.traverse()"
   ]
  },
  {
   "cell_type": "code",
   "execution_count": 39,
   "id": "c10d1055-4bc3-4c8c-8546-fb5afa077153",
   "metadata": {},
   "outputs": [
    {
     "data": {
      "text/plain": [
       "('found at :-', 0)"
      ]
     },
     "execution_count": 39,
     "metadata": {},
     "output_type": "execute_result"
    }
   ],
   "source": [
    "a.search(2)"
   ]
  },
  {
   "cell_type": "code",
   "execution_count": 25,
   "id": "7111a689-66c6-4e98-8e57-7805449aeee6",
   "metadata": {},
   "outputs": [
    {
     "data": {
      "text/plain": [
       "('found at :-', 2)"
      ]
     },
     "execution_count": 25,
     "metadata": {},
     "output_type": "execute_result"
    }
   ],
   "source": [
    "a.search(5)"
   ]
  },
  {
   "cell_type": "code",
   "execution_count": 41,
   "id": "ccbdc0f0-ef19-4f10-bfdb-d1c975ba69ad",
   "metadata": {},
   "outputs": [
    {
     "data": {
      "text/plain": [
       "('found at :-', 3)"
      ]
     },
     "execution_count": 41,
     "metadata": {},
     "output_type": "execute_result"
    }
   ],
   "source": [
    "a.search(7)"
   ]
  },
  {
   "cell_type": "code",
   "execution_count": 43,
   "id": "3fa77e6a-2fec-4721-92cc-d35cefaa97e6",
   "metadata": {},
   "outputs": [
    {
     "data": {
      "text/plain": [
       "'not found'"
      ]
     },
     "execution_count": 43,
     "metadata": {},
     "output_type": "execute_result"
    }
   ],
   "source": [
    "a.search(8)"
   ]
  },
  {
   "cell_type": "code",
   "execution_count": null,
   "id": "4c741b4e-9099-4118-8d5d-f7443c16a4e1",
   "metadata": {},
   "outputs": [],
   "source": []
  }
 ],
 "metadata": {
  "kernelspec": {
   "display_name": "Python 3 (ipykernel)",
   "language": "python",
   "name": "python3"
  },
  "language_info": {
   "codemirror_mode": {
    "name": "ipython",
    "version": 3
   },
   "file_extension": ".py",
   "mimetype": "text/x-python",
   "name": "python",
   "nbconvert_exporter": "python",
   "pygments_lexer": "ipython3",
   "version": "3.11.5"
  }
 },
 "nbformat": 4,
 "nbformat_minor": 5
}
