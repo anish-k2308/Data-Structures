{
 "cells": [
  {
   "cell_type": "code",
   "execution_count": 88,
   "id": "398a0a9e-7d7a-4c9d-acc9-065619370678",
   "metadata": {},
   "outputs": [],
   "source": [
    "def infix_to_prefix(val):\n",
    "    operator = set(['+','-','*','/','^','(',')'])\n",
    "    priority = {')':0,'+':1,'-':1,'*':2,'/':2,'^':3}\n",
    "    val = val[::-1]\n",
    "    stack = []\n",
    "    y = []\n",
    "    for i in val:\n",
    "        if i not in operator:\n",
    "            y.insert(0,i)\n",
    "        elif i == ')':\n",
    "            stack.append(')')\n",
    "        elif i == '(':\n",
    "            while stack and stack[-1] != ')':\n",
    "                x = stack.pop()\n",
    "                y.insert(0,x)\n",
    "            stack.pop()\n",
    "        else:\n",
    "            while stack and priority[i] < priority[stack[-1]]:\n",
    "                x = stack.pop()\n",
    "                y.insert(0,x)\n",
    "            stack.append(i)\n",
    "    while stack:\n",
    "        x = stack.pop()\n",
    "        y.insert(0,x)\n",
    "    return y\n",
    "            \n",
    "            "
   ]
  },
  {
   "cell_type": "code",
   "execution_count": 90,
   "id": "57de12d6-7bdd-4d37-983b-18839ad1e78b",
   "metadata": {},
   "outputs": [
    {
     "data": {
      "text/plain": [
       "')z*y/x(^w^)v/u(^)t-s(*)r*q(+p'"
      ]
     },
     "execution_count": 90,
     "metadata": {},
     "output_type": "execute_result"
    }
   ],
   "source": [
    "val = 'p+(q*r)*(s-t)^(u/v)^w^(x/y*z)'\n",
    "val[::-1]"
   ]
  },
  {
   "cell_type": "code",
   "execution_count": 92,
   "id": "d71dd220-e750-45ad-8b57-4bba30980b35",
   "metadata": {},
   "outputs": [
    {
     "data": {
      "text/plain": [
       "['+',\n",
       " 'p',\n",
       " '*',\n",
       " '*',\n",
       " 'q',\n",
       " 'r',\n",
       " '^',\n",
       " '^',\n",
       " '^',\n",
       " '-',\n",
       " 's',\n",
       " 't',\n",
       " '/',\n",
       " 'u',\n",
       " 'v',\n",
       " 'w',\n",
       " '*',\n",
       " '/',\n",
       " 'x',\n",
       " 'y',\n",
       " 'z']"
      ]
     },
     "execution_count": 92,
     "metadata": {},
     "output_type": "execute_result"
    }
   ],
   "source": [
    "ans = infix_to_prefix(val)\n",
    "ans"
   ]
  }
 ],
 "metadata": {
  "kernelspec": {
   "display_name": "Python 3 (ipykernel)",
   "language": "python",
   "name": "python3"
  },
  "language_info": {
   "codemirror_mode": {
    "name": "ipython",
    "version": 3
   },
   "file_extension": ".py",
   "mimetype": "text/x-python",
   "name": "python",
   "nbconvert_exporter": "python",
   "pygments_lexer": "ipython3",
   "version": "3.11.5"
  }
 },
 "nbformat": 4,
 "nbformat_minor": 5
}
