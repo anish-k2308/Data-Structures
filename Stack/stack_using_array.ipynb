{
 "cells": [
  {
   "cell_type": "code",
   "execution_count": 42,
   "id": "9d6dfc06-c4ad-4660-ac19-7834a82bd819",
   "metadata": {},
   "outputs": [],
   "source": [
    "class Stack:\n",
    "    def __init__(self):\n",
    "        self.stack = []\n",
    "        self.n = 5\n",
    "    def is_empty(self):\n",
    "        return len(self.stack) == 0\n",
    "    def push(self,val):\n",
    "        if(len(self.stack)==self.n):\n",
    "            return 'overflow'\n",
    "        else:\n",
    "            self.stack.append(val)\n",
    "    def pop(self):\n",
    "        if (len(self.stack) == 0):\n",
    "            return 'underflow'\n",
    "        else:\n",
    "            return self.stack.pop()\n",
    "    def top(self):\n",
    "        if(len(self.stack) == 0):\n",
    "            return 'empty stack'\n",
    "        else:\n",
    "            return self.stack[-1]"
   ]
  },
  {
   "cell_type": "code",
   "execution_count": 44,
   "id": "bbfd8ed7-5f48-4306-9fcf-4ea9abad9171",
   "metadata": {},
   "outputs": [],
   "source": [
    "stack = Stack()"
   ]
  },
  {
   "cell_type": "code",
   "execution_count": 46,
   "id": "9e3da69d-1beb-41fd-98c5-8ec96f453380",
   "metadata": {},
   "outputs": [],
   "source": [
    "stack.push(5)"
   ]
  },
  {
   "cell_type": "code",
   "execution_count": 48,
   "id": "929e27a8-132a-4e90-be6a-25729c269c22",
   "metadata": {},
   "outputs": [
    {
     "data": {
      "text/plain": [
       "5"
      ]
     },
     "execution_count": 48,
     "metadata": {},
     "output_type": "execute_result"
    }
   ],
   "source": [
    "stack.pop()"
   ]
  },
  {
   "cell_type": "code",
   "execution_count": 50,
   "id": "e641c8d8-9259-42d8-b75c-f8bf0932b4db",
   "metadata": {},
   "outputs": [
    {
     "data": {
      "text/plain": [
       "'empty stack'"
      ]
     },
     "execution_count": 50,
     "metadata": {},
     "output_type": "execute_result"
    }
   ],
   "source": [
    "stack.top()"
   ]
  },
  {
   "cell_type": "code",
   "execution_count": null,
   "id": "9bd9eedf-4656-4056-ba84-d81b34b142c0",
   "metadata": {},
   "outputs": [],
   "source": []
  }
 ],
 "metadata": {
  "kernelspec": {
   "display_name": "Python 3 (ipykernel)",
   "language": "python",
   "name": "python3"
  },
  "language_info": {
   "codemirror_mode": {
    "name": "ipython",
    "version": 3
   },
   "file_extension": ".py",
   "mimetype": "text/x-python",
   "name": "python",
   "nbconvert_exporter": "python",
   "pygments_lexer": "ipython3",
   "version": "3.11.5"
  }
 },
 "nbformat": 4,
 "nbformat_minor": 5
}
