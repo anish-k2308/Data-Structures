{
 "cells": [
  {
   "cell_type": "code",
   "execution_count": 9,
   "id": "2643a03e-7b00-431d-9d71-8ad136680d31",
   "metadata": {},
   "outputs": [],
   "source": [
    "from collections import deque"
   ]
  },
  {
   "cell_type": "code",
   "execution_count": 11,
   "id": "5fa427dd-e33e-4c68-afba-90459aaea67c",
   "metadata": {},
   "outputs": [],
   "source": [
    "class Stack:\n",
    "    def __init__(self):\n",
    "        self.stack = deque()\n",
    "    def isnot_empty(self):\n",
    "        return len(self.stack) != 0\n",
    "    def push(self,val):\n",
    "        self.stack.append(val)\n",
    "    def pop(self):\n",
    "        if (len(self.stack) != 0):\n",
    "            return self.stack.pop()\n",
    "    def top(self):\n",
    "        return self.stack[-1]        "
   ]
  },
  {
   "cell_type": "code",
   "execution_count": 41,
   "id": "eac33961-f02e-4eb0-a3ae-cfafa50077b5",
   "metadata": {},
   "outputs": [],
   "source": [
    "def infix_to_postfix(val):\n",
    "    stack = []\n",
    "    y = ''\n",
    "    operator = set(['+','-','*','/','(',')','^'])\n",
    "    priority = {'+':1,'-':1,'*':2,'/':2,'^':3}\n",
    "    for i in val:\n",
    "        if i not in operator:\n",
    "            y+=i\n",
    "        elif i == '(':\n",
    "            stack.append(i)\n",
    "        elif i == ')':\n",
    "            while stack and stack[-1] != '(':\n",
    "                y+=stack.pop()\n",
    "            stack.pop()\n",
    "        else:\n",
    "            while stack and priority[i] <= priority[stack[-1]]:\n",
    "                y+=stack.pop()\n",
    "            stack.append(i)\n",
    "    while stack:\n",
    "        y+=stack.pop()\n",
    "    return y"
   ]
  },
  {
   "cell_type": "code",
   "execution_count": 43,
   "id": "ec50f7d9-2a01-47bc-b1ad-cb29e10ab735",
   "metadata": {},
   "outputs": [
    {
     "ename": "KeyError",
     "evalue": "'-'",
     "output_type": "error",
     "traceback": [
      "\u001b[1;31m---------------------------------------------------------------------------\u001b[0m",
      "\u001b[1;31mKeyError\u001b[0m                                  Traceback (most recent call last)",
      "Cell \u001b[1;32mIn[43], line 1\u001b[0m\n\u001b[1;32m----> 1\u001b[0m infix_to_postfix(\u001b[38;5;124m'\u001b[39m\u001b[38;5;124ma+(b-c/d)^(e*f)+g/h\u001b[39m\u001b[38;5;124m'\u001b[39m)\n",
      "Cell \u001b[1;32mIn[41], line 16\u001b[0m, in \u001b[0;36minfix_to_postfix\u001b[1;34m(val)\u001b[0m\n\u001b[0;32m     14\u001b[0m     stack\u001b[38;5;241m.\u001b[39mpop()\n\u001b[0;32m     15\u001b[0m \u001b[38;5;28;01melse\u001b[39;00m:\n\u001b[1;32m---> 16\u001b[0m     \u001b[38;5;28;01mwhile\u001b[39;00m stack \u001b[38;5;129;01mand\u001b[39;00m priority[i] \u001b[38;5;241m<\u001b[39m\u001b[38;5;241m=\u001b[39m priority[stack[\u001b[38;5;241m-\u001b[39m\u001b[38;5;241m1\u001b[39m]]:\n\u001b[0;32m     17\u001b[0m         y\u001b[38;5;241m+\u001b[39m\u001b[38;5;241m=\u001b[39mstack\u001b[38;5;241m.\u001b[39mpop()\n\u001b[0;32m     18\u001b[0m     stack\u001b[38;5;241m.\u001b[39mappend(i)\n",
      "\u001b[1;31mKeyError\u001b[0m: '-'"
     ]
    }
   ],
   "source": [
    "infix_to_postfix('a+(b-c/d)^(e*f)+g/h')"
   ]
  },
  {
   "cell_type": "code",
   "execution_count": 13,
   "id": "d7c2ca1b-5c85-49a7-aa2a-a50c65256cb6",
   "metadata": {},
   "outputs": [],
   "source": [
    "stack = Stack()"
   ]
  },
  {
   "cell_type": "code",
   "execution_count": 19,
   "id": "5af872ed-081e-4558-a341-0bb18fbcf545",
   "metadata": {},
   "outputs": [],
   "source": [
    "stack.push(3)"
   ]
  },
  {
   "cell_type": "code",
   "execution_count": 23,
   "id": "e80672c4-7481-4259-8a41-d5531dc57626",
   "metadata": {},
   "outputs": [
    {
     "data": {
      "text/plain": [
       "3"
      ]
     },
     "execution_count": 23,
     "metadata": {},
     "output_type": "execute_result"
    }
   ],
   "source": [
    "stack.top()"
   ]
  },
  {
   "cell_type": "code",
   "execution_count": 25,
   "id": "c7194631-70b2-4078-8a70-6efebf5a4919",
   "metadata": {},
   "outputs": [],
   "source": [
    "y = stack.pop()"
   ]
  },
  {
   "cell_type": "code",
   "execution_count": 27,
   "id": "6a20ebbe-6241-4f23-8d93-b662a404f30f",
   "metadata": {},
   "outputs": [
    {
     "data": {
      "text/plain": [
       "3"
      ]
     },
     "execution_count": 27,
     "metadata": {},
     "output_type": "execute_result"
    }
   ],
   "source": [
    "y"
   ]
  },
  {
   "cell_type": "code",
   "execution_count": 29,
   "id": "885c24bc-6dd0-41ee-9525-7960fbab2b97",
   "metadata": {},
   "outputs": [
    {
     "data": {
      "text/plain": [
       "2"
      ]
     },
     "execution_count": 29,
     "metadata": {},
     "output_type": "execute_result"
    }
   ],
   "source": [
    "stack.top()"
   ]
  },
  {
   "cell_type": "code",
   "execution_count": 69,
   "id": "f2e5af58-7ec2-4ca6-af9c-398a97a3bf7f",
   "metadata": {},
   "outputs": [
    {
     "data": {
      "text/plain": [
       "3"
      ]
     },
     "execution_count": 69,
     "metadata": {},
     "output_type": "execute_result"
    }
   ],
   "source": [
    "dict = {'+':1,'-':1,'*':2,'/':2,'^':3}\n",
    "dict['^']"
   ]
  },
  {
   "cell_type": "code",
   "execution_count": null,
   "id": "a09dd737-ffd2-4bc6-8ca5-2cec0df8be86",
   "metadata": {},
   "outputs": [],
   "source": []
  }
 ],
 "metadata": {
  "kernelspec": {
   "display_name": "Python 3 (ipykernel)",
   "language": "python",
   "name": "python3"
  },
  "language_info": {
   "codemirror_mode": {
    "name": "ipython",
    "version": 3
   },
   "file_extension": ".py",
   "mimetype": "text/x-python",
   "name": "python",
   "nbconvert_exporter": "python",
   "pygments_lexer": "ipython3",
   "version": "3.11.5"
  }
 },
 "nbformat": 4,
 "nbformat_minor": 5
}
