{
 "cells": [
  {
   "cell_type": "code",
   "execution_count": 1,
   "id": "d8483dc4-acc1-419c-b2e5-4c2101bca4bd",
   "metadata": {},
   "outputs": [],
   "source": [
    "from collections import deque"
   ]
  },
  {
   "cell_type": "code",
   "execution_count": 75,
   "id": "15754cc1-20f9-4299-a3f5-b7bd6354997f",
   "metadata": {},
   "outputs": [],
   "source": [
    "class Stack:\n",
    "    def __init__(self):\n",
    "        self.collection = deque()\n",
    "    def is_empty(self):\n",
    "        return len(self.collection) == 0\n",
    "    def push(self,val):\n",
    "        self.collection.append(val)\n",
    "    def pop(self):\n",
    "        return self.collection.pop()\n",
    "    def top(self):\n",
    "        return self.collection[-1]"
   ]
  },
  {
   "cell_type": "code",
   "execution_count": 104,
   "id": "a05e9020-1adf-4e24-896b-1aa71e60c8ec",
   "metadata": {},
   "outputs": [],
   "source": [
    "def check_parenthesis(arr):\n",
    "    stack = Stack()\n",
    "    for i in arr:\n",
    "        if i == '(':\n",
    "            stack.push(i)\n",
    "        elif i == '{':\n",
    "            stack.push(i)\n",
    "        elif i == '[':\n",
    "            stack.push(i)\n",
    "        elif i == ')' and stack.top() == '(':\n",
    "            stack.pop()\n",
    "        elif i == ']' and stack.top() == '[':\n",
    "            stack.pop()\n",
    "        elif i == '}' and stack.top() == '{':\n",
    "            stack.pop()\n",
    "    if stack.is_empty():\n",
    "            return 'Balanced'\n",
    "    else: return \"Unbalanced\""
   ]
  },
  {
   "cell_type": "code",
   "execution_count": 105,
   "id": "313b81db-6c84-434a-a5de-fd016c6617b4",
   "metadata": {},
   "outputs": [
    {
     "data": {
      "text/plain": [
       "'Unbalanced'"
      ]
     },
     "execution_count": 105,
     "metadata": {},
     "output_type": "execute_result"
    }
   ],
   "source": [
    "check_parenthesis('{()}')"
   ]
  },
  {
   "cell_type": "code",
   "execution_count": 87,
   "id": "20706606",
   "metadata": {},
   "outputs": [],
   "source": [
    "st = Stack()"
   ]
  },
  {
   "cell_type": "code",
   "execution_count": 88,
   "id": "4aac8ab8",
   "metadata": {},
   "outputs": [],
   "source": [
    "st.push(5)"
   ]
  },
  {
   "cell_type": "code",
   "execution_count": 89,
   "id": "9ef0ebc6",
   "metadata": {},
   "outputs": [
    {
     "data": {
      "text/plain": [
       "5"
      ]
     },
     "execution_count": 89,
     "metadata": {},
     "output_type": "execute_result"
    }
   ],
   "source": [
    "st.top()"
   ]
  },
  {
   "cell_type": "code",
   "execution_count": null,
   "id": "c1f63afa",
   "metadata": {},
   "outputs": [],
   "source": []
  }
 ],
 "metadata": {
  "kernelspec": {
   "display_name": "Python 3 (ipykernel)",
   "language": "python",
   "name": "python3"
  },
  "language_info": {
   "codemirror_mode": {
    "name": "ipython",
    "version": 3
   },
   "file_extension": ".py",
   "mimetype": "text/x-python",
   "name": "python",
   "nbconvert_exporter": "python",
   "pygments_lexer": "ipython3",
   "version": "3.11.5"
  }
 },
 "nbformat": 4,
 "nbformat_minor": 5
}
