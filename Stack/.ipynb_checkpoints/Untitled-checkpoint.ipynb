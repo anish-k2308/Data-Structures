{
 "cells": [
  {
   "cell_type": "code",
   "execution_count": 1,
   "id": "c4d62877-bce1-4001-a9eb-a9d17b0166fc",
   "metadata": {},
   "outputs": [],
   "source": [
    "from queue import LifoQueue"
   ]
  },
  {
   "cell_type": "code",
   "execution_count": 9,
   "id": "f51304bd-ea37-4319-a8fe-35347e58e89b",
   "metadata": {},
   "outputs": [],
   "source": [
    "class Stack:\n",
    "    def __init__(self):\n",
    "        self.stack = LifoQueue(maxsize = 5)\n",
    "        self.n = 5\n",
    "    def push(self,val):\n",
    "        self.stack.put(val)\n",
    "    def top(self):\n",
    "        if (len(self.stack) == 0):\n",
    "            return 'empty'\n",
    "        else:\n",
    "            return self.stack[-1]"
   ]
  },
  {
   "cell_type": "code",
   "execution_count": 11,
   "id": "999749a1-c5a6-4fe8-9a5c-df67e59c5a86",
   "metadata": {},
   "outputs": [],
   "source": [
    "stack = Stack()"
   ]
  },
  {
   "cell_type": "code",
   "execution_count": 13,
   "id": "1c720170-6768-4691-a5b4-ebac350493cf",
   "metadata": {},
   "outputs": [],
   "source": [
    "stack.push(1)\n",
    "stack.push(2)\n",
    "stack.push(3)\n",
    "stack.push(4)\n",
    "stack.push(5)"
   ]
  },
  {
   "cell_type": "code",
   "execution_count": null,
   "id": "593a01d1-3067-4c7a-ba23-53fec4f681a9",
   "metadata": {},
   "outputs": [],
   "source": [
    "stack.push(1)"
   ]
  },
  {
   "cell_type": "code",
   "execution_count": null,
   "id": "7de1d9e9-bd26-42dd-8c84-baf72b454214",
   "metadata": {},
   "outputs": [],
   "source": []
  }
 ],
 "metadata": {
  "kernelspec": {
   "display_name": "Python 3 (ipykernel)",
   "language": "python",
   "name": "python3"
  },
  "language_info": {
   "codemirror_mode": {
    "name": "ipython",
    "version": 3
   },
   "file_extension": ".py",
   "mimetype": "text/x-python",
   "name": "python",
   "nbconvert_exporter": "python",
   "pygments_lexer": "ipython3",
   "version": "3.11.5"
  }
 },
 "nbformat": 4,
 "nbformat_minor": 5
}
