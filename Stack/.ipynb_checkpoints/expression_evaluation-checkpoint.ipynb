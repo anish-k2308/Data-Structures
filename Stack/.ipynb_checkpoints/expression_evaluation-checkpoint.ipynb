{
 "cells": [
  {
   "cell_type": "code",
   "execution_count": 134,
   "id": "e417fb1c-af1a-412a-885a-46dcab52f541",
   "metadata": {},
   "outputs": [],
   "source": [
    "def evaluation(val):\n",
    "    stack = []\n",
    "    z = 0\n",
    "    x = 0\n",
    "    y = 0\n",
    "    operator = set(['+','-','/','*','^'])\n",
    "    for i in val:\n",
    "        if i not in operator:\n",
    "            stack.append(i)\n",
    "            print(stack)\n",
    "        else:\n",
    "            if i == '+':\n",
    "                x = stack.pop()\n",
    "                y = stack.pop()\n",
    "                z = int(y)+int(x)\n",
    "                stack.append(z)\n",
    "                print(stack,' ',x,i,y)\n",
    "            elif i == '-':\n",
    "                x = stack.pop()\n",
    "                y = stack.pop()\n",
    "                z = int(y)-int(x)\n",
    "                stack.append(z)\n",
    "                print(stack,' ',x,i,y)\n",
    "            elif i == '*':\n",
    "                x = stack.pop()\n",
    "                y = stack.pop()\n",
    "                z = int(y)*int(x)\n",
    "                stack.append(z)\n",
    "                print(stack,' ',x,i,y)\n",
    "            if i == '/':\n",
    "                x = stack.pop()\n",
    "                y = stack.pop()\n",
    "                z = int(y)//int(x)\n",
    "                stack.append(z)\n",
    "                print(stack,' ',x,i,y)\n",
    "            elif i == '^':\n",
    "                x = stack.pop()\n",
    "                y = stack.pop()\n",
    "                z = pow(int(y),int(x))\n",
    "                stack.append(z)\n",
    "                print(stack,' ',x,i,y)\n",
    "    return stack.pop()"
   ]
  },
  {
   "cell_type": "code",
   "execution_count": 136,
   "id": "5768fb2c-4815-4a3f-88bb-d4fe14b716bb",
   "metadata": {},
   "outputs": [
    {
     "name": "stdout",
     "output_type": "stream",
     "text": [
      "[72]\n",
      "[72, 18]\n",
      "[4]   18 / 72\n",
      "[4, 4]\n",
      "[16]   4 * 4\n",
      "[16, 2]\n",
      "[256]   2 ^ 16\n",
      "[256, 8]\n",
      "[32]   8 / 256\n",
      "[32, 15]\n",
      "[17]   15 - 32\n",
      "[17, 4]\n",
      "[21]   4 + 17\n",
      "[21, 2]\n",
      "[42]   2 * 21\n"
     ]
    },
    {
     "data": {
      "text/plain": [
       "42"
      ]
     },
     "execution_count": 136,
     "metadata": {},
     "output_type": "execute_result"
    }
   ],
   "source": [
    "ans = evaluation([72,18,'/',4,'*',2,'^',8,'/',15,'-',4,'+',2,'*'])\n",
    "ans"
   ]
  },
  {
   "cell_type": "code",
   "execution_count": 138,
   "id": "937ab310-c852-4038-a708-0ef24b96d304",
   "metadata": {},
   "outputs": [],
   "source": [
    "pre = ['+','*','+','*','/','+',2,7,3,4,5,4,2]"
   ]
  },
  {
   "cell_type": "code",
   "execution_count": 140,
   "id": "04620bab-d188-49de-9dd6-8d1ea1ad7d96",
   "metadata": {},
   "outputs": [],
   "source": [
    "def evaluation_pre(val):\n",
    "    stack = []\n",
    "    z = 0\n",
    "    x = 0\n",
    "    y = 0\n",
    "    operator = set(['+','-','/','*','^'])\n",
    "    for i in val:\n",
    "        if i not in operator:\n",
    "            stack.append(i)\n",
    "            print(stack)\n",
    "        else:\n",
    "            if i == '+':\n",
    "                x = stack.pop()\n",
    "                y = stack.pop()\n",
    "                z = int(x)+int(y)\n",
    "                stack.append(z)\n",
    "                print(stack,' ',x,i,y)\n",
    "            elif i == '-':\n",
    "                x = stack.pop()\n",
    "                y = stack.pop()\n",
    "                z = int(x)-int(y)\n",
    "                stack.append(z)\n",
    "                print(stack,' ',x,i,y)\n",
    "            elif i == '*':\n",
    "                x = stack.pop()\n",
    "                y = stack.pop()\n",
    "                z = int(x)*int(y)\n",
    "                stack.append(z)\n",
    "                print(stack,' ',x,i,y)\n",
    "            if i == '/':\n",
    "                x = stack.pop()\n",
    "                y = stack.pop()\n",
    "                z = int(x)/int(y)\n",
    "                stack.append(z)\n",
    "                print(stack,' ',x,i,y)\n",
    "            elif i == '^':\n",
    "                x = stack.pop()\n",
    "                y = stack.pop()\n",
    "                z = pow(int(x),int(y))\n",
    "                stack.append(z)\n",
    "                print(stack,' ',x,i,y)\n",
    "    return stack.pop()"
   ]
  },
  {
   "cell_type": "code",
   "execution_count": 144,
   "id": "240a42b7-1cd4-4d9b-a097-83d29a355b7a",
   "metadata": {},
   "outputs": [],
   "source": [
    "pre = pre[::-1]"
   ]
  },
  {
   "cell_type": "code",
   "execution_count": 146,
   "id": "01394748-6ceb-4684-bac1-85e2fb654f14",
   "metadata": {},
   "outputs": [
    {
     "name": "stdout",
     "output_type": "stream",
     "text": [
      "[2]\n",
      "[2, 4]\n",
      "[2, 4, 5]\n",
      "[2, 4, 5, 4]\n",
      "[2, 4, 5, 4, 3]\n",
      "[2, 4, 5, 4, 3, 7]\n",
      "[2, 4, 5, 4, 3, 7, 2]\n",
      "[2, 4, 5, 4, 3, 9]   2 + 7\n",
      "[2, 4, 5, 4, 3.0]   9 / 3\n",
      "[2, 4, 5, 12]   3.0 * 4\n",
      "[2, 4, 17]   12 + 5\n",
      "[2, 68]   17 * 4\n",
      "[70]   68 + 2\n"
     ]
    },
    {
     "data": {
      "text/plain": [
       "70"
      ]
     },
     "execution_count": 146,
     "metadata": {},
     "output_type": "execute_result"
    }
   ],
   "source": [
    "evaluation_pre(pre)"
   ]
  },
  {
   "cell_type": "code",
   "execution_count": null,
   "id": "8be461ff-f01e-4aff-9f6a-9d6dd0756edc",
   "metadata": {},
   "outputs": [],
   "source": []
  }
 ],
 "metadata": {
  "kernelspec": {
   "display_name": "Python 3 (ipykernel)",
   "language": "python",
   "name": "python3"
  },
  "language_info": {
   "codemirror_mode": {
    "name": "ipython",
    "version": 3
   },
   "file_extension": ".py",
   "mimetype": "text/x-python",
   "name": "python",
   "nbconvert_exporter": "python",
   "pygments_lexer": "ipython3",
   "version": "3.11.5"
  }
 },
 "nbformat": 4,
 "nbformat_minor": 5
}
