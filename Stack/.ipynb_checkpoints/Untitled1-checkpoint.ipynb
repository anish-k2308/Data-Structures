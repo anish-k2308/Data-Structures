{
 "cells": [
  {
   "cell_type": "code",
   "execution_count": 9,
   "id": "460e95ab-43af-45dd-8034-4ac9a0167381",
   "metadata": {},
   "outputs": [],
   "source": [
    "def stack_using_queue(x):\n",
    "    q1 = []\n",
    "    q2 = []\n",
    "    while q1:\n",
    "        q2.insert(0,q1.pop(0))\n",
    "    q1.insert(0,x)\n",
    "    while q2:\n",
    "        q1.insert(0,q2.pop(0))\n",
    "    return q1"
   ]
  },
  {
   "cell_type": "code",
   "execution_count": 11,
   "id": "b1a066c6-4ab5-48ff-a280-ce8a12e9a059",
   "metadata": {},
   "outputs": [],
   "source": [
    "a = [1,2,3,4]"
   ]
  },
  {
   "cell_type": "code",
   "execution_count": 7,
   "id": "f4e2d70b-e127-4706-8143-977fe5267044",
   "metadata": {},
   "outputs": [
    {
     "data": {
      "text/plain": [
       "[9, 2, 3, 4]"
      ]
     },
     "execution_count": 7,
     "metadata": {},
     "output_type": "execute_result"
    }
   ],
   "source": [
    "a.insert(0,9)\n",
    "a"
   ]
  },
  {
   "cell_type": "code",
   "execution_count": 15,
   "id": "f0435766-754f-48b2-bd49-cb7b27d44f92",
   "metadata": {},
   "outputs": [
    {
     "data": {
      "text/plain": [
       "[4]"
      ]
     },
     "execution_count": 15,
     "metadata": {},
     "output_type": "execute_result"
    }
   ],
   "source": [
    "stack_using_queue(1)\n",
    "stack_using_queue(2)\n",
    "stack_using_queue(3)\n",
    "stack_using_queue(4)"
   ]
  },
  {
   "cell_type": "code",
   "execution_count": null,
   "id": "074de0e6-443c-47a1-9ab6-fafdb6a861a8",
   "metadata": {},
   "outputs": [],
   "source": []
  }
 ],
 "metadata": {
  "kernelspec": {
   "display_name": "Python 3 (ipykernel)",
   "language": "python",
   "name": "python3"
  },
  "language_info": {
   "codemirror_mode": {
    "name": "ipython",
    "version": 3
   },
   "file_extension": ".py",
   "mimetype": "text/x-python",
   "name": "python",
   "nbconvert_exporter": "python",
   "pygments_lexer": "ipython3",
   "version": "3.11.5"
  }
 },
 "nbformat": 4,
 "nbformat_minor": 5
}
