{
 "cells": [
  {
   "cell_type": "code",
   "execution_count": 9,
   "id": "2643a03e-7b00-431d-9d71-8ad136680d31",
   "metadata": {},
   "outputs": [],
   "source": [
    "from collections import deque"
   ]
  },
  {
   "cell_type": "code",
   "execution_count": 11,
   "id": "5fa427dd-e33e-4c68-afba-90459aaea67c",
   "metadata": {},
   "outputs": [],
   "source": [
    "class Stack:\n",
    "    def __init__(self):\n",
    "        self.stack = deque()\n",
    "    def isnot_empty(self):\n",
    "        return len(self.stack) != 0\n",
    "    def push(self,val):\n",
    "        self.stack.append(val)\n",
    "    def pop(self):\n",
    "        if (len(self.stack) != 0):\n",
    "            return self.stack.pop()\n",
    "    def top(self):\n",
    "        return self.stack[-1]        "
   ]
  },
  {
   "cell_type": "code",
   "execution_count": 87,
   "id": "eac33961-f02e-4eb0-a3ae-cfafa50077b5",
   "metadata": {},
   "outputs": [],
   "source": [
    "def infix_to_postfix(val):\n",
    "    stack = []\n",
    "    y = ''\n",
    "    operator = set(['+','-','*','/','(',')','^'])\n",
    "    priority = {'+':1,'-':1,'*':2,'/':2,'^':3,'(':0}\n",
    "    for i in val:\n",
    "        if i not in operator:\n",
    "            y+=i\n",
    "            print(y,'operator')\n",
    "        elif i == '(':\n",
    "            stack.append(i)\n",
    "            print(stack,'bracket')\n",
    "        elif i == ')':\n",
    "            while stack and stack[-1] != '(':\n",
    "                y+=stack.pop()\n",
    "                print(stack,'bracket closed',y)\n",
    "            stack.pop()\n",
    "        else:\n",
    "            while stack and priority[i] <= priority[stack[-1]]:\n",
    "                y+=stack.pop()\n",
    "                print(stack,' condn',y)\n",
    "            stack.append(i)\n",
    "            print(stack,'stack after condn')\n",
    "    while stack:\n",
    "        y+=stack.pop()\n",
    "    return y"
   ]
  },
  {
   "cell_type": "code",
   "execution_count": 89,
   "id": "ec50f7d9-2a01-47bc-b1ad-cb29e10ab735",
   "metadata": {},
   "outputs": [
    {
     "name": "stdout",
     "output_type": "stream",
     "text": [
      "a operator\n",
      "['+'] stack after condn\n",
      "['+', '('] bracket\n",
      "ab operator\n",
      "['+', '(', '-'] stack after condn\n",
      "abc operator\n",
      "['+', '(', '-', '/'] stack after condn\n",
      "abcd operator\n",
      "['+', '(', '-'] bracket closed abcd/\n",
      "['+', '('] bracket closed abcd/-\n",
      "['+', '^'] stack after condn\n",
      "['+', '^', '('] bracket\n",
      "abcd/-e operator\n",
      "['+', '^', '(', '*'] stack after condn\n",
      "abcd/-ef operator\n",
      "['+', '^', '('] bracket closed abcd/-ef*\n",
      "['+']  condn abcd/-ef*^\n",
      "[]  condn abcd/-ef*^+\n",
      "['+'] stack after condn\n",
      "abcd/-ef*^+g operator\n",
      "['+', '/'] stack after condn\n",
      "abcd/-ef*^+gh operator\n"
     ]
    },
    {
     "data": {
      "text/plain": [
       "'abcd/-ef*^+gh/+'"
      ]
     },
     "execution_count": 89,
     "metadata": {},
     "output_type": "execute_result"
    }
   ],
   "source": [
    "infix_to_postfix('a+(b-c/d)^(e*f)+g/h')"
   ]
  },
  {
   "cell_type": "code",
   "execution_count": 13,
   "id": "d7c2ca1b-5c85-49a7-aa2a-a50c65256cb6",
   "metadata": {},
   "outputs": [],
   "source": [
    "stack = Stack()"
   ]
  },
  {
   "cell_type": "code",
   "execution_count": 19,
   "id": "5af872ed-081e-4558-a341-0bb18fbcf545",
   "metadata": {},
   "outputs": [],
   "source": [
    "stack.push(3)"
   ]
  },
  {
   "cell_type": "code",
   "execution_count": 23,
   "id": "e80672c4-7481-4259-8a41-d5531dc57626",
   "metadata": {},
   "outputs": [
    {
     "data": {
      "text/plain": [
       "3"
      ]
     },
     "execution_count": 23,
     "metadata": {},
     "output_type": "execute_result"
    }
   ],
   "source": [
    "stack.top()"
   ]
  },
  {
   "cell_type": "code",
   "execution_count": 25,
   "id": "c7194631-70b2-4078-8a70-6efebf5a4919",
   "metadata": {},
   "outputs": [],
   "source": [
    "y = stack.pop()"
   ]
  },
  {
   "cell_type": "code",
   "execution_count": 27,
   "id": "6a20ebbe-6241-4f23-8d93-b662a404f30f",
   "metadata": {},
   "outputs": [
    {
     "data": {
      "text/plain": [
       "3"
      ]
     },
     "execution_count": 27,
     "metadata": {},
     "output_type": "execute_result"
    }
   ],
   "source": [
    "y"
   ]
  },
  {
   "cell_type": "code",
   "execution_count": 29,
   "id": "885c24bc-6dd0-41ee-9525-7960fbab2b97",
   "metadata": {},
   "outputs": [
    {
     "data": {
      "text/plain": [
       "2"
      ]
     },
     "execution_count": 29,
     "metadata": {},
     "output_type": "execute_result"
    }
   ],
   "source": [
    "stack.top()"
   ]
  },
  {
   "cell_type": "code",
   "execution_count": 69,
   "id": "f2e5af58-7ec2-4ca6-af9c-398a97a3bf7f",
   "metadata": {},
   "outputs": [
    {
     "data": {
      "text/plain": [
       "3"
      ]
     },
     "execution_count": 69,
     "metadata": {},
     "output_type": "execute_result"
    }
   ],
   "source": [
    "dict = {'+':1,'-':1,'*':2,'/':2,'^':3}\n",
    "dict['^']"
   ]
  },
  {
   "cell_type": "code",
   "execution_count": null,
   "id": "a09dd737-ffd2-4bc6-8ca5-2cec0df8be86",
   "metadata": {},
   "outputs": [],
   "source": []
  }
 ],
 "metadata": {
  "kernelspec": {
   "display_name": "Python 3 (ipykernel)",
   "language": "python",
   "name": "python3"
  },
  "language_info": {
   "codemirror_mode": {
    "name": "ipython",
    "version": 3
   },
   "file_extension": ".py",
   "mimetype": "text/x-python",
   "name": "python",
   "nbconvert_exporter": "python",
   "pygments_lexer": "ipython3",
   "version": "3.11.5"
  }
 },
 "nbformat": 4,
 "nbformat_minor": 5
}
