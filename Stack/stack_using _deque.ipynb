{
 "cells": [
  {
   "cell_type": "code",
   "execution_count": 1,
   "id": "d8483dc4-acc1-419c-b2e5-4c2101bca4bd",
   "metadata": {},
   "outputs": [],
   "source": [
    "from collections import deque"
   ]
  },
  {
   "cell_type": "code",
   "execution_count": 7,
   "id": "15754cc1-20f9-4299-a3f5-b7bd6354997f",
   "metadata": {},
   "outputs": [],
   "source": [
    "class Stack:\n",
    "    def __init__(self):\n",
    "        self.collection = deque()\n",
    "    def is_empty(self):\n",
    "        return len(self.collection) == 0\n",
    "    def push(self,val):\n",
    "        self.collection.append(val)\n",
    "    def pop(self):\n",
    "        return self.collection.pop()"
   ]
  },
  {
   "cell_type": "code",
   "execution_count": 9,
   "id": "5aeb8128-467c-4222-9808-a6e7c451bfde",
   "metadata": {},
   "outputs": [],
   "source": [
    "st = Stack()"
   ]
  },
  {
   "cell_type": "code",
   "execution_count": 11,
   "id": "580f1a5c-08e0-40d6-a1ff-f850b377dd3d",
   "metadata": {},
   "outputs": [],
   "source": [
    "st.push(2)"
   ]
  },
  {
   "cell_type": "code",
   "execution_count": 13,
   "id": "235b8f6c-b068-4a72-a672-a7c5baa3b33c",
   "metadata": {},
   "outputs": [
    {
     "data": {
      "text/plain": [
       "2"
      ]
     },
     "execution_count": 13,
     "metadata": {},
     "output_type": "execute_result"
    }
   ],
   "source": [
    "st.pop()"
   ]
  },
  {
   "cell_type": "code",
   "execution_count": 15,
   "id": "399b2a33-6069-42dc-9d27-d8277ba8b559",
   "metadata": {},
   "outputs": [
    {
     "data": {
      "text/plain": [
       "True"
      ]
     },
     "execution_count": 15,
     "metadata": {},
     "output_type": "execute_result"
    }
   ],
   "source": [
    "st.is_empty()"
   ]
  },
  {
   "cell_type": "code",
   "execution_count": 116,
   "id": "a05e9020-1adf-4e24-896b-1aa71e60c8ec",
   "metadata": {},
   "outputs": [],
   "source": [
    "class Stack_d:\n",
    "    def __init__(self):\n",
    "        self.stack = deque()\n",
    "        self.n = 5\n",
    "\n",
    "    def is_empty(self):\n",
    "        return len(self.stack) == 0\n",
    "    def push(self,val):\n",
    "        if len(self.stack) == self.n:\n",
    "            return 'overflow'\n",
    "        else:\n",
    "            self.stack.append(val)\n",
    "    def pop(self):\n",
    "        if not self.is_empty():\n",
    "            return self.stack.pop()\n",
    "        else:\n",
    "            return 'underflow'\n",
    "    def top(self):\n",
    "        return self.stack[len(self.stack)-1]\n",
    "        "
   ]
  },
  {
   "cell_type": "code",
   "execution_count": 118,
   "id": "27bc7b62-60d2-4f4f-85a7-e330c7314dd3",
   "metadata": {},
   "outputs": [],
   "source": [
    "sta = Stack_d()"
   ]
  },
  {
   "cell_type": "code",
   "execution_count": 120,
   "id": "e851ccc0-ac3b-4771-8855-e6ce0270fc9d",
   "metadata": {},
   "outputs": [
    {
     "data": {
      "text/plain": [
       "True"
      ]
     },
     "execution_count": 120,
     "metadata": {},
     "output_type": "execute_result"
    }
   ],
   "source": [
    "sta.is_empty()"
   ]
  },
  {
   "cell_type": "code",
   "execution_count": 122,
   "id": "a8088356-27fc-414c-b80b-b6261ee5ebd1",
   "metadata": {},
   "outputs": [],
   "source": [
    "sta.push(1)\n",
    "sta.push(2)\n",
    "sta.push(3)\n",
    "sta.push(4)\n",
    "sta.push(5)"
   ]
  },
  {
   "cell_type": "code",
   "execution_count": 128,
   "id": "5a296103-cdeb-4530-b9e9-527fe56a4d03",
   "metadata": {},
   "outputs": [
    {
     "data": {
      "text/plain": [
       "4"
      ]
     },
     "execution_count": 128,
     "metadata": {},
     "output_type": "execute_result"
    }
   ],
   "source": [
    "sta.pop()"
   ]
  },
  {
   "cell_type": "code",
   "execution_count": 130,
   "id": "e828e3ed-0fd5-4d2b-aaeb-f009f8e0a1fc",
   "metadata": {},
   "outputs": [
    {
     "data": {
      "text/plain": [
       "3"
      ]
     },
     "execution_count": 130,
     "metadata": {},
     "output_type": "execute_result"
    }
   ],
   "source": [
    "sta.top()"
   ]
  },
  {
   "cell_type": "code",
   "execution_count": null,
   "id": "65492652-bb75-451d-8e85-d9577fb61fb5",
   "metadata": {},
   "outputs": [],
   "source": []
  }
 ],
 "metadata": {
  "kernelspec": {
   "display_name": "Python 3 (ipykernel)",
   "language": "python",
   "name": "python3"
  },
  "language_info": {
   "codemirror_mode": {
    "name": "ipython",
    "version": 3
   },
   "file_extension": ".py",
   "mimetype": "text/x-python",
   "name": "python",
   "nbconvert_exporter": "python",
   "pygments_lexer": "ipython3",
   "version": "3.11.5"
  }
 },
 "nbformat": 4,
 "nbformat_minor": 5
}
